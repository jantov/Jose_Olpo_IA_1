{
 "cells": [
  {
   "cell_type": "code",
   "execution_count": 10,
   "metadata": {},
   "outputs": [
    {
     "ename": "ModuleNotFoundError",
     "evalue": "No module named 'Alumnos'",
     "output_type": "error",
     "traceback": [
      "\u001b[1;31m---------------------------------------------------------------------------\u001b[0m",
      "\u001b[1;31mModuleNotFoundError\u001b[0m                       Traceback (most recent call last)",
      "\u001b[1;32m<ipython-input-10-f7c019b0c9ff>\u001b[0m in \u001b[0;36m<module>\u001b[1;34m\u001b[0m\n\u001b[1;32m----> 1\u001b[1;33m \u001b[1;32mimport\u001b[0m \u001b[0mAlumnos\u001b[0m\u001b[1;33m\u001b[0m\u001b[1;33m\u001b[0m\u001b[0m\n\u001b[0m\u001b[0;32m      2\u001b[0m \u001b[1;33m\u001b[0m\u001b[0m\n\u001b[0;32m      3\u001b[0m List_Nombres = ['Jose', 'Manuel', 'Iris', 'Angela', 'Carolina',\n\u001b[0;32m      4\u001b[0m                 'Pedro', 'Juan', 'Pablo', 'Maria', 'Sofia']\n\u001b[0;32m      5\u001b[0m List_Apellidos = ['Rodriguez', 'Martinez', 'Gonzales', 'Dominguez', 'Lora',\n",
      "\u001b[1;31mModuleNotFoundError\u001b[0m: No module named 'Alumnos'"
     ]
    }
   ],
   "source": [
    "import Alumnos\n",
    "\n",
    "List_Nombres = ['Jose', 'Manuel', 'Iris', 'Angela', 'Carolina',\n",
    "                'Pedro', 'Juan', 'Pablo', 'Maria', 'Sofia']\n",
    "List_Apellidos = ['Rodriguez', 'Martinez', 'Gonzales', 'Dominguez', 'Lora',\n",
    "                  'Mamani', 'Quispe', 'Flores', 'Choque', 'Mendez']\n",
    "\n",
    "Num_Alumnos = int(input('Ingresa el numero de alumnos a generar'))\n",
    "\n",
    "Lista = Al.Generar_Alumnos(Num_Alumnos)\n",
    "Notas = Al.Generar_Notas(Lista)"
   ]
  },
  {
   "cell_type": "code",
   "execution_count": null,
   "metadata": {},
   "outputs": [],
   "source": []
  }
 ],
 "metadata": {
  "kernelspec": {
   "display_name": "Python 3",
   "language": "python",
   "name": "python3"
  },
  "language_info": {
   "codemirror_mode": {
    "name": "ipython",
    "version": 3
   },
   "file_extension": ".py",
   "mimetype": "text/x-python",
   "name": "python",
   "nbconvert_exporter": "python",
   "pygments_lexer": "ipython3",
   "version": "3.8.5"
  }
 },
 "nbformat": 4,
 "nbformat_minor": 4
}
