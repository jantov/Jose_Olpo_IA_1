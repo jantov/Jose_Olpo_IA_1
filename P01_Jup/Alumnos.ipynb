{
 "cells": [
  {
   "cell_type": "code",
   "execution_count": null,
   "metadata": {},
   "outputs": [],
   "source": []
  },
  {
   "cell_type": "code",
   "execution_count": 42,
   "metadata": {},
   "outputs": [],
   "source": [
    "\n",
    "def Generar_Alumnos(Num_Alumnos):\n",
    "    n = 1\n",
    "    List_Alumnos = []\n",
    "    for k in range(Num_Alumnos):\n",
    "        i = random.randint(0, 9)\n",
    "        j = random.randint(0, 9)\n",
    "        Nombre1 = List_Nombres[i] + ' ' +List_Apellidos[j]\n",
    "        List_Alumnos.append(Nombre1)\n",
    "    \n",
    "    print('Lista de Alumnos Generada')\n",
    "    for Alumno in List_Alumnos:\n",
    "        print('{} {}'.format(n,Alumno))\n",
    "        n = n + 1\n",
    "        \n",
    "    return List_Alumnos\n",
    "\n",
    "def Generar_Notas(List_Alumnos):\n",
    "    List_Notas = {}\n",
    "    print('\\nNotas Generadas')\n",
    "    for Alumno in List_Alumnos:\n",
    "        Nota = random.randint(10, 100)\n",
    "        List_Notas[Alumno] = Nota\n",
    "        \n",
    "    for key in List_Notas:\n",
    "        print(key, \":\", List_Notas[key])\n",
    "        \n",
    "    return List_Notas\n",
    "    \n",
    "\n"
   ]
  },
  {
   "cell_type": "code",
   "execution_count": 41,
   "metadata": {},
   "outputs": [
    {
     "ename": "ModuleNotFoundError",
     "evalue": "No module named 'Alumnos'",
     "output_type": "error",
     "traceback": [
      "\u001b[1;31m---------------------------------------------------------------------------\u001b[0m",
      "\u001b[1;31mModuleNotFoundError\u001b[0m                       Traceback (most recent call last)",
      "\u001b[1;32m<ipython-input-41-f7c019b0c9ff>\u001b[0m in \u001b[0;36m<module>\u001b[1;34m\u001b[0m\n\u001b[1;32m----> 1\u001b[1;33m \u001b[1;32mimport\u001b[0m \u001b[0mAlumnos\u001b[0m\u001b[1;33m\u001b[0m\u001b[1;33m\u001b[0m\u001b[0m\n\u001b[0m\u001b[0;32m      2\u001b[0m \u001b[1;33m\u001b[0m\u001b[0m\n\u001b[0;32m      3\u001b[0m List_Nombres = ['Jose', 'Manuel', 'Iris', 'Angela', 'Carolina',\n\u001b[0;32m      4\u001b[0m                 'Pedro', 'Juan', 'Pablo', 'Maria', 'Sofia']\n\u001b[0;32m      5\u001b[0m List_Apellidos = ['Rodriguez', 'Martinez', 'Gonzales', 'Dominguez', 'Lora',\n",
      "\u001b[1;31mModuleNotFoundError\u001b[0m: No module named 'Alumnos'"
     ]
    }
   ],
   "source": []
  },
  {
   "cell_type": "code",
   "execution_count": null,
   "metadata": {},
   "outputs": [],
   "source": []
  }
 ],
 "metadata": {
  "kernelspec": {
   "display_name": "Python 3",
   "language": "python",
   "name": "python3"
  },
  "language_info": {
   "codemirror_mode": {
    "name": "ipython",
    "version": 3
   },
   "file_extension": ".py",
   "mimetype": "text/x-python",
   "name": "python",
   "nbconvert_exporter": "python",
   "pygments_lexer": "ipython3",
   "version": "3.8.5"
  }
 },
 "nbformat": 4,
 "nbformat_minor": 4
}
