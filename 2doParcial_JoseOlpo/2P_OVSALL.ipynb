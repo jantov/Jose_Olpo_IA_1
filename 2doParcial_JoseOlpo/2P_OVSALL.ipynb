{
  "nbformat": 4,
  "nbformat_minor": 0,
  "metadata": {
    "colab": {
      "name": "2P_OVSALL.ipynb",
      "provenance": []
    },
    "kernelspec": {
      "name": "python3",
      "display_name": "Python 3"
    },
    "language_info": {
      "name": "python"
    }
  },
  "cells": [
    {
      "cell_type": "code",
      "metadata": {
        "id": "snhCqXoKekeZ"
      },
      "source": [
        "# utilizado para la manipulación de directorios y rutas\n",
        "import os\n",
        "\n",
        "# Cálculo científico y vectorial para python\n",
        "import numpy as np\n",
        "\n",
        "# Libreria para graficos\n",
        "from matplotlib import pyplot\n",
        "\n",
        "# Modulo de optimizacion en scipy\n",
        "from scipy import optimize\n",
        "\n",
        "# modulo para cargar archivos en formato MATLAB\n",
        "from scipy.io import loadmat\n",
        "\n",
        "# le dice a matplotlib que incruste gráficos en el cuaderno\n",
        "%matplotlib inline"
      ],
      "execution_count": null,
      "outputs": []
    },
    {
      "cell_type": "code",
      "metadata": {
        "colab": {
          "base_uri": "https://localhost:8080/"
        },
        "id": "G2fc7pqNetJY",
        "outputId": "d071c167-1e20-4f58-a771-f96a8d166d84"
      },
      "source": [
        "from google.colab import drive\n",
        "drive.mount('/content/gdrive')"
      ],
      "execution_count": null,
      "outputs": [
        {
          "output_type": "stream",
          "text": [
            "Drive already mounted at /content/gdrive; to attempt to forcibly remount, call drive.mount(\"/content/gdrive\", force_remount=True).\n"
          ],
          "name": "stdout"
        }
      ]
    },
    {
      "cell_type": "code",
      "metadata": {
        "id": "hdjnsCbgev8A"
      },
      "source": [
        "# Cargar datos\n",
        "data = np.loadtxt(os.path.join('/content/gdrive/MyDrive/dataset_2p', 'ecoli.csv'), delimiter=\",\")\n"
      ],
      "execution_count": null,
      "outputs": []
    },
    {
      "cell_type": "code",
      "metadata": {
        "id": "sbwYiRrGeww5"
      },
      "source": [
        "#CREAR X ; Y\n",
        "X = data[:, :7]\n",
        "y = data[:, 7]\n",
        "#m = y.size"
      ],
      "execution_count": null,
      "outputs": []
    },
    {
      "cell_type": "code",
      "metadata": {
        "id": "tPUgkitTfGQg"
      },
      "source": [
        "# Son las x que tiene el dataset\n",
        "input_layer_size  = 7\n",
        "\n",
        "# se DEFINE CUANTOS ESTADOS DE SALIDA EXISTEN\n",
        "num_labels = 8\n",
        "\n",
        "#Numero de filas o ejemplos\n",
        "m = y.size\n",
        "\n",
        "#Numero de x es n"
      ],
      "execution_count": null,
      "outputs": []
    },
    {
      "cell_type": "code",
      "metadata": {
        "id": "MCzNuS5ufIpn"
      },
      "source": [
        "def sigmoid(z):\n",
        "    \"\"\"\n",
        "    Calcula la sigmoide de z.\n",
        "    \"\"\"\n",
        "    return 1.0 / (1.0 + np.exp(-z))"
      ],
      "execution_count": null,
      "outputs": []
    },
    {
      "cell_type": "code",
      "metadata": {
        "id": "l0A0xrAUfJba"
      },
      "source": [
        "def lrCostFunction(theta, X, y, lambda_):\n",
        "    \n",
        "    # Inicializa algunos valores utiles\n",
        "    m = y.size\n",
        "    \n",
        "    # convierte las etiquetas a valores enteros si son boleanos\n",
        "    if y.dtype == bool:\n",
        "        y = y.astype(int)\n",
        "    \n",
        "    J = 0\n",
        "    grad = np.zeros(theta.shape)\n",
        "    \n",
        "    h = sigmoid(X.dot(theta.T))\n",
        "    \n",
        "    temp = theta\n",
        "    temp[0] = 0\n",
        "    \n",
        "    J = (1 / m) * np.sum(-y.dot(np.log(h)) - (1 - y).dot(np.log(1 - h))) + (lambda_ / (2 * m)) * np.sum(np.square(temp))\n",
        "    \n",
        "    grad = (1 / m) * (h - y).dot(X) \n",
        "    grad = grad + (lambda_ / m) * temp\n",
        "\n",
        "    return J, grad"
      ],
      "execution_count": null,
      "outputs": []
    },
    {
      "cell_type": "code",
      "metadata": {
        "id": "Sqxg1ThFfMq_"
      },
      "source": [
        "# valores de prueba para los parámetros theta\n",
        "theta_t = np.array([-2, -1, 1, 2], dtype=float)\n",
        "\n",
        "# valores de prueba para las entradas\n",
        "X_t = np.concatenate([np.ones((5, 1)), np.arange(1, 16).reshape(5, 3, order='F')/10.0], axis=1)\n",
        "\n",
        "# valores de testeo para las etiquetas\n",
        "y_t = np.array([1, 0, 1, 0, 1])\n",
        "\n",
        "# valores de testeo para el parametro de regularizacion\n",
        "lambda_t = 3"
      ],
      "execution_count": null,
      "outputs": []
    },
    {
      "cell_type": "code",
      "metadata": {
        "colab": {
          "base_uri": "https://localhost:8080/"
        },
        "id": "F-VuU1RDfV0n",
        "outputId": "d1090a18-86dd-4535-9979-da0a1f387803"
      },
      "source": [
        "J, grad = lrCostFunction(theta_t, X_t, y_t, lambda_t)\n",
        "\n",
        "print('Costo         : {:.6f}'.format(J))\n",
        "print('Costo esperadot: 2.534819')\n",
        "print('-----------------------')\n",
        "print('Gradientes:')\n",
        "print(' [{:.6f}, {:.6f}, {:.6f}, {:.6f}]'.format(*grad))\n",
        "print('Gradientes esperados:')\n",
        "print(' [0.146561, -0.548558, 0.724722, 1.398003]');"
      ],
      "execution_count": null,
      "outputs": [
        {
          "output_type": "stream",
          "text": [
            "Costo         : 2.534819\n",
            "Costo esperadot: 2.534819\n",
            "-----------------------\n",
            "Gradientes:\n",
            " [0.146561, -0.548558, 0.724722, 1.398003]\n",
            "Gradientes esperados:\n",
            " [0.146561, -0.548558, 0.724722, 1.398003]\n"
          ],
          "name": "stdout"
        }
      ]
    },
    {
      "cell_type": "code",
      "metadata": {
        "id": "ZHs4OcJ8fYFo"
      },
      "source": [
        "def oneVsAll(X, y, num_labels, lambda_):\n",
        "  \n",
        "    # algunas variables utiles\n",
        "    m, n = X.shape\n",
        "    \n",
        "    all_theta = np.zeros((num_labels, n + 1))\n",
        "\n",
        "    # Agrega unos a la matriz X\n",
        "    X = np.concatenate([np.ones((m, 1)), X], axis=1)\n",
        "    #for c in np.arange(num_labels): solo cuando y esta al incio\n",
        "  # c+1 se hace para sabr los n resltados\n",
        "\n",
        "    for c in np.arange(num_labels):\n",
        "        initial_theta = np.zeros(n + 1)\n",
        "        options = {'maxiter': 100}\n",
        "        res = optimize.minimize(lrCostFunction, \n",
        "                                initial_theta, \n",
        "                                (X, (y == (c+1)), lambda_), \n",
        "                                jac=True, \n",
        "                                method='BFGS',\n",
        "                                options=options) \n",
        "        \n",
        "        all_theta[c] = res.x\n",
        "\n",
        "    return all_theta"
      ],
      "execution_count": null,
      "outputs": []
    },
    {
      "cell_type": "code",
      "metadata": {
        "id": "_H7aa-HufaaZ"
      },
      "source": [
        "lambda_ = 0.1\n",
        "all_theta = oneVsAll(X, y, num_labels, lambda_)"
      ],
      "execution_count": null,
      "outputs": []
    },
    {
      "cell_type": "code",
      "metadata": {
        "id": "q-nHJoVyfdsQ"
      },
      "source": [
        "def predictOneVsAll(all_theta, X):\n",
        "\n",
        "    m = X.shape[0];\n",
        "    num_labels = all_theta.shape[0]\n",
        "\n",
        "    p = np.zeros(m)\n",
        "\n",
        "    # Add ones to the X data matrix\n",
        "    X = np.concatenate([np.ones((m, 1)), X], axis=1)\n",
        "    p = np.argmax(sigmoid(X.dot(all_theta.T)), axis = 1)\n",
        "\n",
        "    return p + 1"
      ],
      "execution_count": null,
      "outputs": []
    },
    {
      "cell_type": "code",
      "metadata": {
        "colab": {
          "base_uri": "https://localhost:8080/"
        },
        "id": "ZZoI17n9fgS3",
        "outputId": "85d1884c-2a9a-41ed-87f0-08b9ea1f0fd8"
      },
      "source": [
        "print(\"ONE VS ALL DE ESTADO DE SALUD FETAL QUE VARIA ENTRE 1 Y 3\\n1 = Muy Saludable \\n2 = Normal \\n3 = Sospechoso (Revision)\\n\")\n",
        "print(X.shape)\n",
        "pred = predictOneVsAll(all_theta, X)\n",
        "#Metrica\n",
        "print('Precision del conjuto de entrenamiento: {:.2f}%'.format(np.mean(pred == y) * 100))\n",
        "XPrueba = X[:].copy()\n",
        "print(XPrueba.shape)\n",
        "\n",
        "#Pruebas\n",
        "print(XPrueba)\n",
        "XPrueba = np.concatenate((np.ones((m, 1)), XPrueba), axis=1)\n",
        "\n",
        "p = np.argmax(sigmoid(XPrueba.dot(all_theta.T)), axis = 1)\n",
        "print(p + 1)\n",
        "\n",
        "#displayData(X[500:510, :])"
      ],
      "execution_count": null,
      "outputs": [
        {
          "output_type": "stream",
          "text": [
            "ONE VS ALL DE ESTADO DE SALUD FETAL QUE VARIA ENTRE 1 Y 3\n",
            "1 = Muy Saludable \n",
            "2 = Normal \n",
            "3 = Sospechoso (Revision)\n",
            "\n",
            "(336, 7)\n",
            "Precision del conjuto de entrenamiento: 89.88%\n",
            "(336, 7)\n",
            "[[0.49 0.29 0.48 ... 0.56 0.24 0.35]\n",
            " [0.07 0.4  0.48 ... 0.54 0.35 0.44]\n",
            " [0.56 0.4  0.48 ... 0.49 0.37 0.46]\n",
            " ...\n",
            " [0.61 0.6  0.48 ... 0.44 0.39 0.38]\n",
            " [0.59 0.61 0.48 ... 0.42 0.42 0.37]\n",
            " [0.74 0.74 0.48 ... 0.31 0.53 0.52]]\n",
            "[1 1 1 1 1 1 1 1 1 1 1 1 1 1 1 1 1 1 1 1 1 1 1 1 1 1 1 1 1 1 1 1 1 1 1 1 1\n",
            " 1 1 1 1 1 1 1 1 1 1 1 1 1 1 1 1 1 1 1 1 1 1 1 1 1 1 1 1 1 1 1 1 1 1 1 1 1\n",
            " 1 1 1 1 1 1 1 1 1 1 1 1 1 1 1 1 1 1 1 1 1 3 1 1 3 1 1 1 1 1 1 1 1 1 1 1 1\n",
            " 1 1 1 1 1 1 1 1 1 1 1 1 1 1 1 1 1 1 1 1 1 1 1 1 1 1 1 1 1 1 1 1 2 1 2 2 2\n",
            " 2 2 2 2 2 2 2 2 2 4 2 2 2 2 4 2 2 2 2 2 2 2 2 2 2 2 4 2 2 2 4 2 2 2 2 1 2\n",
            " 2 4 2 2 2 2 2 2 2 2 2 2 2 2 2 2 2 2 2 2 2 2 2 2 2 4 2 2 2 2 2 2 3 2 2 3 2\n",
            " 7 4 4 4 4 4 4 4 4 2 4 2 2 3 4 4 4 2 2 2 4 4 4 2 4 2 4 4 4 2 4 2 2 4 4 1 4\n",
            " 5 5 5 3 5 3 5 5 5 5 5 5 5 5 5 5 5 5 5 5 6 6 6 6 6 3 3 3 3 3 3 3 3 3 3 3 3\n",
            " 3 3 3 3 1 3 3 3 3 3 3 3 3 3 3 3 3 3 2 3 3 3 3 3 3 3 3 3 3 1 3 1 3 3 1 3 3\n",
            " 3 3 3]\n"
          ],
          "name": "stdout"
        }
      ]
    }
  ]
}