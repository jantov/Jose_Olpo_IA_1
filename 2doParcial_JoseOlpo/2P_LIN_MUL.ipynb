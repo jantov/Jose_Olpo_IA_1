{
  "nbformat": 4,
  "nbformat_minor": 0,
  "metadata": {
    "colab": {
      "name": "2P_LIN_MUL.ipynb",
      "provenance": []
    },
    "kernelspec": {
      "name": "python3",
      "display_name": "Python 3"
    },
    "language_info": {
      "name": "python"
    }
  },
  "cells": [
    {
      "cell_type": "code",
      "metadata": {
        "id": "jqb3lkQvCX4S"
      },
      "source": [
        "#Directorios\n",
        "import os\n",
        "import numpy as np\n",
        "\n",
        "# Librerias para graficación (trazado de gráficos) por si acaso\n",
        "from matplotlib import pyplot\n",
        "from mpl_toolkits.mplot3d import Axes3D  # Necesario para graficar superficies 3D\n",
        "\n",
        "# llama a matplotlib a embeber graficas dentro de los cuadernillos\n",
        "%matplotlib inline"
      ],
      "execution_count": null,
      "outputs": []
    },
    {
      "cell_type": "code",
      "metadata": {
        "colab": {
          "base_uri": "https://localhost:8080/"
        },
        "id": "Q_2EERE3Cp44",
        "outputId": "b7a911c7-d6c9-4978-fe74-163a143a664b"
      },
      "source": [
        "from google.colab import drive\n",
        "drive.mount('/content/gdrive')"
      ],
      "execution_count": null,
      "outputs": [
        {
          "output_type": "stream",
          "text": [
            "Drive already mounted at /content/gdrive; to attempt to forcibly remount, call drive.mount(\"/content/gdrive\", force_remount=True).\n"
          ],
          "name": "stdout"
        }
      ]
    },
    {
      "cell_type": "code",
      "metadata": {
        "id": "I3rLT5y4Csnm"
      },
      "source": [
        "# Cargar datos\n",
        "data = np.loadtxt(os.path.join('/content/gdrive/MyDrive/dataset_2p', 'ecoli.csv'), delimiter=\",\")\n"
      ],
      "execution_count": null,
      "outputs": []
    },
    {
      "cell_type": "code",
      "metadata": {
        "colab": {
          "base_uri": "https://localhost:8080/"
        },
        "id": "rpxlrMlLJ1W3",
        "outputId": "d7625e6a-a9c5-45ed-abbc-ef1d8ca7b2d8"
      },
      "source": [
        "#CREAR X ; Y\n",
        "x = data[:, :7]\n",
        "y = data[:, 7]\n",
        "y_res = data[:,7]\n",
        "#m = y.size\n",
        "print(x[0])\n",
        "print(x.shape)\n",
        "print(y.shape)"
      ],
      "execution_count": null,
      "outputs": [
        {
          "output_type": "stream",
          "text": [
            "[0.49 0.29 0.48 0.5  0.56 0.24 0.35]\n",
            "(336, 7)\n",
            "(336,)\n"
          ],
          "name": "stdout"
        }
      ]
    },
    {
      "cell_type": "code",
      "metadata": {
        "id": "d6oXYbYXLWdH"
      },
      "source": [
        "#Igualdad a 1 para la suma de todos los valores del resultado\n",
        "def softmax(x):\n",
        "    return np.exp(x) / np.exp(x).sum(axis=-1,keepdims=True)"
      ],
      "execution_count": null,
      "outputs": []
    },
    {
      "cell_type": "code",
      "metadata": {
        "id": "PvNYtQ7uLXaW"
      },
      "source": [
        "def crossentropy(output, target):\n",
        "    logits = output[np.arange(len(output)),target]\n",
        "    entropy = - logits + np.log(np.sum(np.exp(output),axis=-1))\n",
        "    return entropy\n",
        "\n",
        "def grad_crossentropy(output, target):\n",
        "    answers = np.zeros_like(output)\n",
        "    answers[np.arange(len(output)),target] = 1    \n",
        "    return (- answers + softmax(output)) / output.shape[0]"
      ],
      "execution_count": null,
      "outputs": []
    },
    {
      "cell_type": "code",
      "metadata": {
        "id": "HVw7IGv9MFBI"
      },
      "source": [
        "class Perceptron():\n",
        "  def __init__(self, inputs, outputs):\n",
        "    self.w = np.random.normal(loc=0.0, \n",
        "          scale = np.sqrt(2/(inputs+outputs)), \n",
        "          size = (inputs, outputs)) \n",
        "    self.ws = []\n",
        "    self.loss = crossentropy\n",
        "    self.grad_loss = grad_crossentropy\n",
        "    \n",
        "  def __call__(self, w, x):\n",
        "    return np.dot(x, w) \n",
        "\n",
        "  def fit(self, x, y, epochs, lr, verbose=True, log_each=1):\n",
        "    y = y.astype(int)\n",
        "    \n",
        "    x = np.c_[np.ones(len(x)), x]\n",
        "    for epoch in range(1,epochs+1):\n",
        "        # Batch Gradient Descent\n",
        "        y_hat = self(self.w, x)  \n",
        "        # función de pérdida\n",
        "        l = self.loss(y_hat, y).mean()\n",
        "        # derivadas\n",
        "        dldh = self.grad_loss(y_hat, y)\n",
        "        dhdw = x\n",
        "        dldw = np.dot(dhdw.T, dldh)\n",
        "        # actualizar pesos\n",
        "        self.w = self.w - lr*dldw\n",
        "        # guardar pesos para animación\n",
        "        self.ws.append(self.w.copy())\n",
        "        # print loss\n",
        "        if verbose and not epoch % log_each:\n",
        "            print(f\"Epoch {epoch}/{epochs} Loss {l}\")\n",
        "            \n",
        "  def predict(self, x):\n",
        "    x = np.c_[np.ones(len(x)), x]\n",
        "    return self(self.w, x)"
      ],
      "execution_count": null,
      "outputs": []
    },
    {
      "cell_type": "code",
      "metadata": {
        "colab": {
          "base_uri": "https://localhost:8080/"
        },
        "id": "-Puh_bMHNS9Q",
        "outputId": "8e13bf77-ec44-4536-bef9-c7b4e5fc94ef"
      },
      "source": [
        "#Entrenamiento\n",
        "\n",
        "perceptron = Perceptron(8, 9)\n",
        "epochs, lr = 300, 1\n",
        "perceptron.fit(x, y, epochs, lr, log_each=20)"
      ],
      "execution_count": null,
      "outputs": [
        {
          "output_type": "stream",
          "text": [
            "Epoch 20/300 Loss 1.3935694211754097\n",
            "Epoch 40/300 Loss 1.1824320450450438\n",
            "Epoch 60/300 Loss 1.0479505917164327\n",
            "Epoch 80/300 Loss 0.9538677767517701\n",
            "Epoch 100/300 Loss 0.8839805499131698\n",
            "Epoch 120/300 Loss 0.8297120857012882\n",
            "Epoch 140/300 Loss 0.7861162993765112\n",
            "Epoch 160/300 Loss 0.750156588311187\n",
            "Epoch 180/300 Loss 0.719869996703956\n",
            "Epoch 200/300 Loss 0.6939308186101512\n",
            "Epoch 220/300 Loss 0.6714096691103664\n",
            "Epoch 240/300 Loss 0.6516339393709215\n",
            "Epoch 260/300 Loss 0.6341034543845551\n",
            "Epoch 280/300 Loss 0.6184375132316872\n",
            "Epoch 300/300 Loss 0.6043404810818723\n"
          ],
          "name": "stdout"
        }
      ]
    },
    {
      "cell_type": "code",
      "metadata": {
        "colab": {
          "base_uri": "https://localhost:8080/"
        },
        "id": "4BiZ9ZYPRB7g",
        "outputId": "98367527-f7f9-40cf-ad31-5bdab868f7dc"
      },
      "source": [
        "X_mean = [np.mean(x,axis=0)]\n",
        "X_std = [np.std(x,axis=0)]\n",
        "\n",
        "#Pruebas\n",
        "# nuevo punto\n",
        "X_new = x[0]\n",
        "X_new_norm = (X_new - X_mean) / X_std \n",
        "print(X_new_norm)\n",
        "# normalizamos\n",
        "#X_new_norm = (X_new - X_mean) / X_std \n",
        "# salida del perceptron\n",
        "y = perceptron.predict(X_new_norm)\n",
        "y"
      ],
      "execution_count": null,
      "outputs": [
        {
          "output_type": "stream",
          "text": [
            "[[-0.0517614  -1.41953086 -0.17514236 -0.05463584  0.49078096 -1.20771743\n",
            "  -0.7160837 ]]\n"
          ],
          "name": "stdout"
        },
        {
          "output_type": "execute_result",
          "data": {
            "text/plain": [
              "array([[ 1.14588684, 15.20708409, -8.57152879, -4.49772023, -4.26654353,\n",
              "         1.17157358,  0.74940658, -0.14121439, -1.14113966]])"
            ]
          },
          "metadata": {
            "tags": []
          },
          "execution_count": 678
        }
      ]
    },
    {
      "cell_type": "code",
      "metadata": {
        "colab": {
          "base_uri": "https://localhost:8080/"
        },
        "id": "0XIqxb1gXbgb",
        "outputId": "4cef0f40-c546-4fa8-85f1-1b9c2a445e06"
      },
      "source": [
        "y_probas = softmax(y)\n",
        "print(res)\n",
        "print(y_probas)"
      ],
      "execution_count": null,
      "outputs": [
        {
          "output_type": "stream",
          "text": [
            "0.6562645054839145\n",
            "[[7.82165356e-07 9.99997587e-01 4.71062562e-11 2.76892485e-09\n",
            "  3.48907203e-09 8.02516901e-07 5.26149775e-07 2.15932301e-07\n",
            "  7.94429909e-08]]\n"
          ],
          "name": "stdout"
        }
      ]
    },
    {
      "cell_type": "code",
      "metadata": {
        "colab": {
          "base_uri": "https://localhost:8080/",
          "height": 265
        },
        "id": "QTBLANdkXlj4",
        "outputId": "ab8c6f2f-66cc-4fe2-855c-d41f3eff18e1"
      },
      "source": [
        "import matplotlib.pyplot as plt\n",
        "plt.bar(list(range(1,10)), y_probas[0])\n",
        "plt.grid(True)\n",
        "plt.show()"
      ],
      "execution_count": null,
      "outputs": [
        {
          "output_type": "display_data",
          "data": {
            "image/png": "[encoded data removed]",
            "text/plain": [
              "<Figure size 432x288 with 1 Axes>"
            ]
          },
          "metadata": {
            "tags": [],
            "needs_background": "light"
          }
        }
      ]
    },
    {
      "cell_type": "markdown",
      "metadata": {
        "id": "cWFrJ2QBbazX"
      },
      "source": [
        "<h2>Metricas<h2>"
      ]
    },
    {
      "cell_type": "code",
      "metadata": {
        "colab": {
          "base_uri": "https://localhost:8080/"
        },
        "id": "bPhWh7FnbaEA",
        "outputId": "2e455263-451e-41a2-be8c-5400f6d901ec"
      },
      "source": [
        "y_probas.sum(axis=1)\n",
        "y_pred = np.argmax(y_probas, axis=1)\n",
        "y_pred"
      ],
      "execution_count": null,
      "outputs": [
        {
          "output_type": "execute_result",
          "data": {
            "text/plain": [
              "array([1])"
            ]
          },
          "metadata": {
            "tags": []
          },
          "execution_count": 681
        }
      ]
    },
    {
      "cell_type": "code",
      "metadata": {
        "id": "k6ZhAP1rcUlS"
      },
      "source": [
        "def evaluate(x):\n",
        "    x = (x - X_mean) / X_std \n",
        "    y = perceptron.predict(x)\n",
        "    y_probas = softmax(y)\n",
        "    return np.argmax(y_probas, axis=1)"
      ],
      "execution_count": null,
      "outputs": []
    },
    {
      "cell_type": "code",
      "metadata": {
        "colab": {
          "base_uri": "https://localhost:8080/"
        },
        "id": "URr9MvoxcWoI",
        "outputId": "7f893b47-b2c6-478b-d1ea-dedc9d9cdad3"
      },
      "source": [
        "X = x[:]\n",
        "pred = evaluate(X)\n",
        "print(pred)\n"
      ],
      "execution_count": null,
      "outputs": [
        {
          "output_type": "stream",
          "text": [
            "[1 1 1 1 1 1 1 1 1 1 1 1 1 1 1 1 1 1 1 1 1 1 1 1 1 1 1 1 1 1 1 1 1 1 1 1 1\n",
            " 1 1 1 1 1 1 1 1 1 1 1 1 1 1 1 1 1 1 1 1 1 1 1 1 1 1 1 1 1 1 1 1 1 1 1 1 1\n",
            " 1 1 1 1 1 1 1 1 1 1 1 1 1 1 1 1 1 1 1 1 1 3 1 1 3 1 1 1 1 1 1 1 1 1 1 1 1\n",
            " 1 1 1 1 1 1 1 1 1 1 1 1 1 1 1 1 1 1 1 1 1 1 1 1 1 1 1 1 1 1 1 1 2 1 2 2 2\n",
            " 2 2 2 2 2 2 2 2 4 4 2 2 2 2 4 2 2 2 2 2 2 2 2 4 2 2 4 2 4 2 4 2 2 4 6 1 5\n",
            " 2 4 4 2 2 2 2 2 2 2 2 2 2 2 2 2 2 2 2 2 2 2 2 2 4 4 2 3 2 1 1 1 3 2 2 3 2\n",
            " 1 6 4 4 4 4 4 4 4 4 4 4 2 3 4 4 4 2 2 2 4 4 4 2 4 2 4 4 4 6 4 4 2 4 4 1 4\n",
            " 5 5 5 3 5 3 5 5 5 5 5 5 5 5 5 6 5 5 5 5 6 6 6 6 6 3 3 3 3 3 3 3 3 3 3 3 3\n",
            " 3 3 3 3 1 3 3 3 3 3 3 3 3 3 3 3 3 3 2 3 3 3 3 3 3 3 3 3 3 1 3 1 3 5 1 3 3\n",
            " 3 3 3]\n"
          ],
          "name": "stdout"
        }
      ]
    },
    {
      "cell_type": "code",
      "metadata": {
        "colab": {
          "base_uri": "https://localhost:8080/"
        },
        "id": "vAoai7P6cnA4",
        "outputId": "5a16a5dd-4cf4-432c-8172-f06406487a87"
      },
      "source": [
        "y_res = y_res.astype(int)\n",
        "print(y_res.astype(int))\n",
        "print('Precision del conjuto de entrenamiento: {:.2f}%'.format(np.mean(pred == y_res) * 100))"
      ],
      "execution_count": null,
      "outputs": [
        {
          "output_type": "stream",
          "text": [
            "[1 1 1 1 1 1 1 1 1 1 1 1 1 1 1 1 1 1 1 1 1 1 1 1 1 1 1 1 1 1 1 1 1 1 1 1 1\n",
            " 1 1 1 1 1 1 1 1 1 1 1 1 1 1 1 1 1 1 1 1 1 1 1 1 1 1 1 1 1 1 1 1 1 1 1 1 1\n",
            " 1 1 1 1 1 1 1 1 1 1 1 1 1 1 1 1 1 1 1 1 1 1 1 1 1 1 1 1 1 1 1 1 1 1 1 1 1\n",
            " 1 1 1 1 1 1 1 1 1 1 1 1 1 1 1 1 1 1 1 1 1 1 1 1 1 1 1 1 1 1 1 1 2 2 2 2 2\n",
            " 2 2 2 2 2 2 2 2 2 2 2 2 2 2 2 2 2 2 2 2 2 2 2 2 2 2 2 2 2 2 2 2 2 2 2 2 2\n",
            " 2 2 2 2 2 2 2 2 2 2 2 2 2 2 2 2 2 2 2 2 2 2 2 2 2 2 2 2 2 2 2 2 2 2 2 8 8\n",
            " 7 7 4 4 4 4 4 4 4 4 4 4 4 4 4 4 4 4 4 4 4 4 4 4 4 4 4 4 4 4 4 4 4 4 4 4 4\n",
            " 5 5 5 5 5 5 5 5 5 5 5 5 5 5 5 5 5 5 5 5 6 6 6 6 6 3 3 3 3 3 3 3 3 3 3 3 3\n",
            " 3 3 3 3 3 3 3 3 3 3 3 3 3 3 3 3 3 3 3 3 3 3 3 3 3 3 3 3 3 3 3 3 3 3 3 3 3\n",
            " 3 3 3]\n",
            "Precision del conjuto de entrenamiento: 86.31%\n"
          ],
          "name": "stdout"
        }
      ]
    }
  ]
}