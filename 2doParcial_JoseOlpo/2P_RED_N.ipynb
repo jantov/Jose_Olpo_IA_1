{
  "nbformat": 4,
  "nbformat_minor": 0,
  "metadata": {
    "colab": {
      "name": "2P_RED_N.ipynb",
      "provenance": []
    },
    "kernelspec": {
      "name": "python3",
      "display_name": "Python 3"
    },
    "language_info": {
      "name": "python"
    }
  },
  "cells": [
    {
      "cell_type": "markdown",
      "metadata": {
        "id": "GsPah4F1A1Ky"
      },
      "source": [
        "#Librerias"
      ]
    },
    {
      "cell_type": "code",
      "metadata": {
        "id": "m4EACqMGuBzy"
      },
      "source": [
        "# used for manipulating directory paths\n",
        "import os\n",
        "import random\n",
        "\n",
        "# Scientific and vector computation for python\n",
        "import numpy as np\n",
        "\n",
        "# Plotting library\n",
        "from matplotlib import pyplot\n",
        "\n",
        "# Optimization module in scipy\n",
        "from scipy import optimize\n",
        "\n",
        "\n",
        "# tells matplotlib to embed plots within the notebook\n",
        "%matplotlib inline"
      ],
      "execution_count": 125,
      "outputs": []
    },
    {
      "cell_type": "markdown",
      "metadata": {
        "id": "Bvq-NNWMBBMp"
      },
      "source": [
        "#Importar datos"
      ]
    },
    {
      "cell_type": "code",
      "metadata": {
        "colab": {
          "base_uri": "https://localhost:8080/"
        },
        "id": "YbP3oXTXAtiS",
        "outputId": "71c43e83-c75f-49f9-9380-97ab2180e1e7"
      },
      "source": [
        "from google.colab import drive\n",
        "drive.mount('/content/gdrive')"
      ],
      "execution_count": 126,
      "outputs": [
        {
          "output_type": "stream",
          "text": [
            "Drive already mounted at /content/gdrive; to attempt to forcibly remount, call drive.mount(\"/content/gdrive\", force_remount=True).\n"
          ],
          "name": "stdout"
        }
      ]
    },
    {
      "cell_type": "code",
      "metadata": {
        "id": "33Ur7IGyA0fZ"
      },
      "source": [
        "#  datos de entrenamiento almacenados en los arreglos X, y\n",
        "data = np.loadtxt(\"/content/gdrive/MyDrive/dataset_2p/ecoli.csv\", delimiter=',')\n",
        "# print(data)\n",
        "\n"
      ],
      "execution_count": 127,
      "outputs": []
    },
    {
      "cell_type": "markdown",
      "metadata": {
        "id": "ls5HIIMhKi6R"
      },
      "source": [
        "#Generar datos\n",
        "Se mezclo los datos data para generar un dataset desordenado con el cual se pueda trabajar."
      ]
    },
    {
      "cell_type": "code",
      "metadata": {
        "colab": {
          "base_uri": "https://localhost:8080/"
        },
        "id": "gySpCO_FBjRB",
        "outputId": "0e2aba79-46f3-49a2-dbda-0c94c6362dc3"
      },
      "source": [
        "#Mezclar bien data\n",
        "np.random.shuffle(data)\n",
        "print(data)\n",
        "y = data[:, 7]\n",
        "y[y == 1] = 0\n",
        "y[y == 2] = 1\n",
        "y[y == 3] = 2\n",
        "y[y == 4] = 3\n",
        "y[y == 5] = 4\n",
        "y[y == 6] = 5\n",
        "y[y == 7] = 6\n",
        "y[y == 8] = 7\n",
        "\n",
        "#CREAR X y Y de prueba\n",
        "xp = data[300:, :7]\n",
        "yp = y[300:, ]\n",
        "print(xp.shape)\n",
        "\n",
        "xp = xp.astype(float)\n",
        "\n",
        "#CREAR X y Y normales\n",
        "x = data[:300, :7]\n",
        "y = y[:300,]\n",
        "\n",
        "\n",
        "x = x.astype(float)\n",
        "y = y.astype(int)\n",
        "y = np.squeeze(y)\n",
        "print(y)\n",
        "\n",
        "\n",
        "\n",
        "#m = y.size"
      ],
      "execution_count": 128,
      "outputs": [
        {
          "output_type": "stream",
          "text": [
            "[[0.75 0.37 0.48 ... 0.7  0.74 4.  ]\n",
            " [0.27 0.42 0.48 ... 0.38 0.43 1.  ]\n",
            " [0.63 1.   0.48 ... 0.51 0.49 3.  ]\n",
            " ...\n",
            " [0.44 0.28 0.48 ... 0.27 0.37 1.  ]\n",
            " [0.69 0.65 0.48 ... 0.48 0.41 3.  ]\n",
            " [0.72 0.46 0.48 ... 0.66 0.7  2.  ]]\n",
            "(36, 7)\n",
            "[3 0 2 3 1 1 0 0 4 0 0 0 0 1 0 1 2 1 0 6 0 0 2 1 1 0 2 2 3 4 1 0 4 0 0 4 3\n",
            " 2 0 0 1 3 0 0 0 1 2 1 3 0 0 0 0 0 3 3 4 1 2 3 0 0 0 1 0 1 1 0 2 0 3 0 7 5\n",
            " 0 2 0 3 1 0 0 0 0 0 0 0 0 1 0 3 2 1 3 0 1 3 2 2 1 1 1 0 0 3 0 2 1 0 2 1 1\n",
            " 0 0 3 2 0 7 2 1 4 0 2 4 2 0 0 0 0 2 1 4 0 2 2 4 2 0 1 0 0 1 0 3 4 1 0 1 3\n",
            " 3 0 0 1 0 5 0 0 2 0 1 2 0 0 0 0 4 1 2 1 0 1 2 0 1 1 4 2 0 0 3 0 1 0 1 0 1\n",
            " 1 0 0 4 3 0 0 0 1 1 0 6 2 0 1 1 0 0 0 1 5 1 2 1 2 4 2 3 2 2 0 3 2 0 4 0 0\n",
            " 0 1 1 1 2 1 1 1 0 0 2 0 1 0 0 0 1 0 0 0 3 0 1 5 3 0 2 1 0 3 1 0 0 0 4 0 1\n",
            " 1 4 3 2 4 2 1 0 1 0 0 3 1 2 0 2 0 1 0 2 0 0 2 1 0 1 0 2 2 0 0 0 1 4 5 0 1\n",
            " 0 1 1 0]\n"
          ],
          "name": "stdout"
        }
      ]
    },
    {
      "cell_type": "markdown",
      "metadata": {
        "id": "n2rYjzhRKwVZ"
      },
      "source": [
        "#Determinar parametros\n",
        "Se determinan parametros, pesos"
      ]
    },
    {
      "cell_type": "code",
      "metadata": {
        "colab": {
          "base_uri": "https://localhost:8080/"
        },
        "id": "BQvI3ZaIEkuK",
        "outputId": "2a359508-bd00-4c38-880a-d1609323d9e2"
      },
      "source": [
        "# Configurando parametros necesario\n",
        "input_layer_size  = 7  # Entrada de 13 caracteristicas\n",
        "hidden_layer_size = 9   # 5 unidades ocultas\n",
        "num_labels = 8        # 3 etiquetas, de 0 a 2\n",
        "\n",
        "x1 = input_layer_size\n",
        "h1 = hidden_layer_size\n",
        "out = num_labels\n",
        "\n",
        "#Pesos (Se puede aumentar)\n",
        "pesos = {}\n",
        "pesos['Theta1'] = np.random.rand(h1, x1 + 1)\n",
        "pesos['Theta2'] = np.random.rand(out, h1 + 1)\n",
        "\n",
        "#Definiendo theta o w's\n",
        "Theta1, Theta2 = pesos['Theta1'], pesos['Theta2']\n",
        "\n",
        "print(Theta1.ravel().shape)\n",
        "print(Theta2.ravel().shape)\n",
        "\n",
        "\n",
        "nn_params = np.concatenate([Theta1.ravel(), Theta2.ravel()])\n",
        "print(nn_params.shape)"
      ],
      "execution_count": 129,
      "outputs": [
        {
          "output_type": "stream",
          "text": [
            "(72,)\n",
            "(80,)\n",
            "(152,)\n"
          ],
          "name": "stdout"
        }
      ]
    },
    {
      "cell_type": "markdown",
      "metadata": {
        "id": "JYTjdWsjK6mK"
      },
      "source": [
        "#Funcion de activacion"
      ]
    },
    {
      "cell_type": "code",
      "metadata": {
        "id": "oGbXqlgXJDrc"
      },
      "source": [
        "def sigmoid(z):\n",
        "    \"\"\"\n",
        "    Computes the sigmoid of z.\n",
        "    \"\"\"\n",
        "    return 1.0 / (1.0 + np.exp(-z))\n",
        "\n",
        "\n",
        "def sigmoidGradient(z):\n",
        "  \n",
        "    g = np.zeros(z.shape)\n",
        "\n",
        "    g = sigmoid(z) * (1 - sigmoid(z))\n",
        "\n",
        "    return g"
      ],
      "execution_count": 130,
      "outputs": []
    },
    {
      "cell_type": "code",
      "metadata": {
        "id": "VXuLvstoJJcJ"
      },
      "source": [
        "def nnCostFunction(nn_params,\n",
        "                   input_layer_size,\n",
        "                   hidden_layer_size,\n",
        "                   num_labels,\n",
        "                   X, y, lambda_=0.0):\n",
        "    \n",
        "    # Genera parametros randomicos ordenados en los thetas\n",
        "    # for our 2 layer neural network\n",
        "    Theta1 = np.reshape(nn_params[:hidden_layer_size * (input_layer_size + 1)],\n",
        "                        (hidden_layer_size, (input_layer_size + 1)))\n",
        "\n",
        "    Theta2 = np.reshape(nn_params[(hidden_layer_size * (input_layer_size + 1)):],\n",
        "                        (num_labels, (hidden_layer_size + 1)))\n",
        "    #Se puede aumentar para mas layers\n",
        "\n",
        "    m = y.size\n",
        "         \n",
        "    J = 1\n",
        "    Theta1_grad = np.zeros(Theta1.shape)\n",
        "    Theta2_grad = np.zeros(Theta2.shape)\n",
        "    \n",
        "    #Concadenamos 1s \"bias\"\n",
        "    a1 = np.concatenate([np.ones((m, 1)), X], axis=1)\n",
        "    \n",
        "    #Generadmos valores 2 y concademos 1s again\n",
        "    a2 = sigmoid(a1.dot(Theta1.T))\n",
        "    a2 = np.concatenate([np.ones((a2.shape[0], 1)), a2], axis=1)\n",
        "    \n",
        "    #Salida\n",
        "    a3 = sigmoid(a2.dot(Theta2.T))\n",
        "    \n",
        " \n",
        "    y_matrix = y.reshape(-1)\n",
        "    # print(y.shape)\n",
        "    y_matrix = np.eye(num_labels)[y_matrix]\n",
        "    # print(y_matrix)\n",
        "\n",
        "    temp1 = Theta1\n",
        "    temp2 = Theta2\n",
        "    \n",
        "    # Agregar el termino de regularización\n",
        "    \n",
        "    reg_term = (lambda_ / (2 * m)) * (np.sum(np.square(temp1[:, 1:])) + np.sum(np.square(temp2[:, 1:])))\n",
        "    \n",
        "    J = (-1 / m) * np.sum((np.log(a3) * y_matrix) + np.log(1 - a3) * (1 - y_matrix)) + reg_term\n",
        "    \n",
        "    # Backpropogation (En caso de tener un layer mas aumentar un delta 4)\n",
        "    \n",
        "    delta_3 = a3 - y_matrix\n",
        "    delta_2 = delta_3.dot(Theta2)[:, 1:] * sigmoidGradient(a1.dot(Theta1.T))\n",
        "\n",
        "    Delta1 = delta_2.T.dot(a1)\n",
        "    Delta2 = delta_3.T.dot(a2)\n",
        "    \n",
        "    # Agregar regularización al gradiente(lo mismo para mas layers)\n",
        "\n",
        "    Theta1_grad = (1 / m) * Delta1\n",
        "    Theta1_grad[:, 1:] = Theta1_grad[:, 1:] + (lambda_ / m) * Theta1[:, 1:]\n",
        "    \n",
        "    Theta2_grad = (1 / m) * Delta2\n",
        "    Theta2_grad[:, 1:] = Theta2_grad[:, 1:] + (lambda_ / m) * Theta2[:, 1:]\n",
        "    \n",
        "    # Calculamos los gradientes\n",
        "    \n",
        "    grad = np.concatenate([Theta1_grad.ravel(), Theta2_grad.ravel()])\n",
        "    \n",
        "    return J, grad"
      ],
      "execution_count": 131,
      "outputs": []
    },
    {
      "cell_type": "code",
      "metadata": {
        "colab": {
          "base_uri": "https://localhost:8080/"
        },
        "id": "u4d97cgfKf9l",
        "outputId": "a246cb28-2b5a-48fb-835e-8170b5e82fa2"
      },
      "source": [
        "lambda_ = 0\n",
        "J, _ = nnCostFunction(nn_params, input_layer_size, hidden_layer_size, num_labels, x, y, lambda_)\n",
        "print('Costo en parametros (cargado de ex4weights): %.6f ' % J)\n",
        "print('El costo debe esta cercano a               : 0.287629')"
      ],
      "execution_count": 132,
      "outputs": [
        {
          "output_type": "stream",
          "text": [
            "Costo en parametros (cargado de ex4weights): 29.848283 \n",
            "El costo debe esta cercano a               : 0.287629\n"
          ],
          "name": "stdout"
        }
      ]
    },
    {
      "cell_type": "code",
      "metadata": {
        "colab": {
          "base_uri": "https://localhost:8080/"
        },
        "id": "nr6-TdsmK_C1",
        "outputId": "3128261f-f87c-4232-b798-d57ea97426c3"
      },
      "source": [
        "z = np.array([-1, -0.5, 0, 0.5, 1])\n",
        "g = sigmoidGradient(z)\n",
        "print('Gradiente sigmoide evaluada con [-1 -0.5 0 0.5 1]:\\n  ')\n",
        "print(g)"
      ],
      "execution_count": 133,
      "outputs": [
        {
          "output_type": "stream",
          "text": [
            "Gradiente sigmoide evaluada con [-1 -0.5 0 0.5 1]:\n",
            "  \n",
            "[0.19661193 0.23500371 0.25       0.23500371 0.19661193]\n"
          ],
          "name": "stdout"
        }
      ]
    },
    {
      "cell_type": "code",
      "metadata": {
        "id": "fqYFS5G3LB-S"
      },
      "source": [
        "def randInitializeWeights(L_in, L_out, epsilon_init=0.12):    \n",
        "\n",
        "    W = np.zeros((L_out, 1 + L_in))\n",
        "    W = np.random.rand(L_out, 1 + L_in) * 2 * epsilon_init - epsilon_init\n",
        "\n",
        "    return W"
      ],
      "execution_count": 134,
      "outputs": []
    },
    {
      "cell_type": "code",
      "metadata": {
        "colab": {
          "base_uri": "https://localhost:8080/"
        },
        "id": "5wJ5SRAvLL12",
        "outputId": "fb924850-8d95-4732-ffe1-6cda64e139bc"
      },
      "source": [
        "print('Inicialización de parámetros de redes neuronales...')\n",
        "\n",
        "initial_Theta1 = randInitializeWeights(input_layer_size, hidden_layer_size)\n",
        "initial_Theta2 = randInitializeWeights(hidden_layer_size, num_labels)\n",
        "\n",
        "# Desenrrollr parametros\n",
        "initial_nn_params = np.concatenate([initial_Theta1.ravel(), initial_Theta2.ravel()], axis=0)"
      ],
      "execution_count": 135,
      "outputs": [
        {
          "output_type": "stream",
          "text": [
            "Inicialización de parámetros de redes neuronales...\n"
          ],
          "name": "stdout"
        }
      ]
    },
    {
      "cell_type": "code",
      "metadata": {
        "id": "KCdKE71lLWqo"
      },
      "source": [
        "#Estos numero son epocs\n",
        "options= {'maxiter': 1000}\n",
        "\n",
        "#  leraning rate supongo\n",
        "lambda_ = 0.5\n",
        "\n",
        "# Funcion de costo o perdida\n",
        "costFunction = lambda p: nnCostFunction(p, input_layer_size,\n",
        "                                        hidden_layer_size,\n",
        "                                        num_labels, x, y, lambda_)\n",
        "\n",
        "# Now, costFunction is a function that takes in only one argument\n",
        "# (the neural network parameters)\n",
        "res = optimize.minimize(costFunction,\n",
        "                        initial_nn_params,\n",
        "                        jac=True,\n",
        "                        method='TNC',\n",
        "                        options=options)\n",
        "\n",
        "# get the solution of the optimization\n",
        "nn_params = res.x\n",
        "        \n",
        "# Obtain Theta1 and Theta2 back from nn_params\n",
        "Theta1 = np.reshape(nn_params[:hidden_layer_size * (input_layer_size + 1)],\n",
        "                    (hidden_layer_size, (input_layer_size + 1)))\n",
        "\n",
        "Theta2 = np.reshape(nn_params[(hidden_layer_size * (input_layer_size + 1)):],\n",
        "                    (num_labels, (hidden_layer_size + 1)))"
      ],
      "execution_count": 136,
      "outputs": []
    },
    {
      "cell_type": "code",
      "metadata": {
        "id": "ALtWaAFaLva2"
      },
      "source": [
        "def predict(Theta1, Theta2, X):\n",
        "   \n",
        "    # Useful values\n",
        "    m = X.shape[0]\n",
        "    num_labels = Theta2.shape[0]\n",
        "\n",
        "    # You need to return the following variables correctly\n",
        "    p = np.zeros(m)\n",
        "    h1 = sigmoid(np.dot(np.concatenate([np.ones((m, 1)), X], axis=1), Theta1.T))\n",
        "    h2 = sigmoid(np.dot(np.concatenate([np.ones((m, 1)), h1], axis=1), Theta2.T))\n",
        "    p = np.argmax(h2, axis=1)\n",
        "    return p"
      ],
      "execution_count": 137,
      "outputs": []
    },
    {
      "cell_type": "code",
      "metadata": {
        "colab": {
          "base_uri": "https://localhost:8080/"
        },
        "id": "RC7e22q4MHby",
        "outputId": "8c54c242-4e27-4dce-9282-526990691e79"
      },
      "source": [
        "pred = predict(Theta1, Theta2, x[:,:])\n",
        "print(y)\n",
        "print(pred)\n",
        "print('Training Set Accuracy: %f' % (np.mean(pred == y[:]) * 100))"
      ],
      "execution_count": 138,
      "outputs": [
        {
          "output_type": "stream",
          "text": [
            "[3 0 2 3 1 1 0 0 4 0 0 0 0 1 0 1 2 1 0 6 0 0 2 1 1 0 2 2 3 4 1 0 4 0 0 4 3\n",
            " 2 0 0 1 3 0 0 0 1 2 1 3 0 0 0 0 0 3 3 4 1 2 3 0 0 0 1 0 1 1 0 2 0 3 0 7 5\n",
            " 0 2 0 3 1 0 0 0 0 0 0 0 0 1 0 3 2 1 3 0 1 3 2 2 1 1 1 0 0 3 0 2 1 0 2 1 1\n",
            " 0 0 3 2 0 7 2 1 4 0 2 4 2 0 0 0 0 2 1 4 0 2 2 4 2 0 1 0 0 1 0 3 4 1 0 1 3\n",
            " 3 0 0 1 0 5 0 0 2 0 1 2 0 0 0 0 4 1 2 1 0 1 2 0 1 1 4 2 0 0 3 0 1 0 1 0 1\n",
            " 1 0 0 4 3 0 0 0 1 1 0 6 2 0 1 1 0 0 0 1 5 1 2 1 2 4 2 3 2 2 0 3 2 0 4 0 0\n",
            " 0 1 1 1 2 1 1 1 0 0 2 0 1 0 0 0 1 0 0 0 3 0 1 5 3 0 2 1 0 3 1 0 0 0 4 0 1\n",
            " 1 4 3 2 4 2 1 0 1 0 0 3 1 2 0 2 0 1 0 2 0 0 2 1 0 1 0 2 2 0 0 0 1 4 5 0 1\n",
            " 0 1 1 0]\n",
            "[3 0 2 3 1 1 0 0 4 0 0 0 0 1 0 1 2 1 0 5 0 0 2 2 1 0 2 0 3 4 1 0 4 0 0 4 1\n",
            " 2 0 0 1 1 0 0 0 3 2 1 1 0 0 0 0 0 3 3 4 1 2 3 0 0 0 1 0 1 1 0 1 0 1 0 2 5\n",
            " 0 2 0 3 1 0 0 0 0 0 0 0 0 1 0 1 2 1 3 0 1 1 2 2 1 1 1 0 0 3 0 2 1 0 2 1 1\n",
            " 0 0 3 2 0 1 2 1 2 0 2 4 2 0 0 0 0 2 1 4 0 2 2 4 2 0 1 0 0 1 0 1 4 1 0 1 1\n",
            " 1 0 0 1 0 5 0 0 2 0 1 2 0 0 0 0 4 1 2 3 0 1 2 0 1 1 4 2 0 0 1 0 1 0 1 0 1\n",
            " 1 0 0 4 1 0 0 0 1 1 0 3 2 0 1 1 0 0 2 0 4 0 2 1 2 4 2 3 2 2 0 1 2 0 4 0 0\n",
            " 0 1 1 1 2 1 3 1 0 0 2 0 1 0 0 0 1 0 0 0 3 0 1 2 1 0 2 1 0 3 1 0 0 0 4 0 1\n",
            " 1 4 3 0 4 2 1 0 1 0 0 0 1 2 0 2 0 1 0 2 0 0 2 1 0 1 0 0 2 0 0 0 1 2 5 0 1\n",
            " 0 1 1 0]\n",
            "Training Set Accuracy: 89.000000\n"
          ],
          "name": "stdout"
        }
      ]
    },
    {
      "cell_type": "code",
      "metadata": {
        "colab": {
          "base_uri": "https://localhost:8080/"
        },
        "id": "8qkK10BGMJYZ",
        "outputId": "36ba881d-8e51-4cbb-9d3d-e7666e2f4fca"
      },
      "source": [
        "pred = predict(Theta1, Theta2, xp[:,:])\n",
        "print(pred)\n",
        "print('Training Set Accuracy: %f' % (np.mean(pred == yp[:]) * 100))\n"
      ],
      "execution_count": 139,
      "outputs": [
        {
          "output_type": "stream",
          "text": [
            "[0 2 2 0 1 0 1 1 0 0 0 1 0 0 1 1 1 0 1 0 0 2 0 1 1 0 0 1 0 0 0 0 0 0 2 3]\n",
            "Training Set Accuracy: 69.444444\n"
          ],
          "name": "stdout"
        }
      ]
    },
    {
      "cell_type": "markdown",
      "metadata": {
        "id": "cyNrnDp4-Mva"
      },
      "source": [
        "#Parte Cliente\n"
      ]
    },
    {
      "cell_type": "code",
      "metadata": {
        "colab": {
          "base_uri": "https://localhost:8080/"
        },
        "id": "6Ko7M29q5PCq",
        "outputId": "fe48833e-b64d-4765-fff4-4d30ee59a014"
      },
      "source": [
        "#Pedir datos\n",
        "\n",
        "mcg = float(input(\"Introduzca el valor MCG, Metodo McGeoch: \"))\n",
        "gvh = float(input(\"Introduzca el valor GVH, Metodo VonHeijne: \"))\n",
        "lab = float(input(\"Introduzca el valor labio, Peptidasa II: \"))\n",
        "chg = float(input(\"Introduzca el valor CHG, Presencia de carga en el extremo N de las lipoproteínas previstas: \"))\n",
        "aac = float(input(\"Introduzca el valor AAC, puntuación del análisis discriminante del contenido de aminoácidos demembrana externa y proteínas periplásmicas.: \"))\n",
        "alm1 = float(input(\"Introduzca el valor ALM1, puntuación del programa de predicción de la región que atraviesa la membrana de ALOM.: \"))\n",
        "alm2 = float(input(\"Introduzca el valor ALM2, puntuación del programa ALOM después de excluir la señal escindible putativa: \"))\n",
        "\n",
        "\n",
        "xprueba = np.array([[mcg, gvh, lab, chg, aac, alm1, alm1]])\n",
        "\n",
        "pred = predict(Theta1, Theta2, xprueba)\n",
        "p = pred[0]\n",
        "#Resultados\n",
        "if (p == 0):\n",
        "  print(\"La ubicacion de la bacteria es en el citoplasma\")\n",
        "elif (p0 == 1):\n",
        "  print(\"La ubicacion de la bacteria es en el membrana interna sin secuencia de señal\")\n",
        "elif (p0 == 2):\n",
        "  print(\"La ubicacion de la bacteria es en el perisplasma\")\n",
        "elif (p0 == 3):\n",
        "  print(\"La ubicacion de la bacteria es en el membrana interna, secuencia de señales que no se puede cortar\")\n",
        "elif (p0 == 4):\n",
        "  print(\"La ubicacion de la bacteria es en el  membrana exterior\")\n",
        "elif (p0 == 5):\n",
        "  print(\"La ubicacion de la bacteria es en el lipoproteína de la membrana externa\")\n",
        "elif (p0 == 6):\n",
        "  print(\"La ubicacion de la bacteria es en el lipoproteína de la membrana interna\")\n",
        "elif (p0 == 7):\n",
        "  print(\"La ubicacion de la bacteria es en el citoplasmamembrana interna, secuencia de señal escindible\")\n",
        "\n",
        "print(pred)"
      ],
      "execution_count": 160,
      "outputs": [
        {
          "output_type": "stream",
          "text": [
            "Introduzca el valor MCG, Metodo McGeoch: 0.5\n",
            "Introduzca el valor GVH, Metodo VonHeijne: 0.48\n",
            "Introduzca el valor labio, Peptidasa II: 0.76\n",
            "Introduzca el valor CHG, Presencia de carga en el extremo N de las lipoproteínas previstas0.3\n",
            "Introduzca el valor AAC, puntuación del análisis discriminante del contenido de aminoácidos demembrana externa y proteínas periplásmicas.0.78\n",
            "Introduzca el valor ALM1, puntuación del programa de predicción de la región que atraviesa la membrana de ALOM.0.6\n",
            "Introduzca el valor ALM2, puntuación del programa ALOM después de excluir la señal escindible putativa0.8\n",
            "La ubicacion de la bacteria es en el membrana interna sin secuencia de señal\n",
            "[1]\n"
          ],
          "name": "stdout"
        }
      ]
    }
  ]
}