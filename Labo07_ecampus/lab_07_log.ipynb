{
  "nbformat": 4,
  "nbformat_minor": 0,
  "metadata": {
    "colab": {
      "name": "lab_07_log.ipynb",
      "provenance": []
    },
    "kernelspec": {
      "name": "python3",
      "display_name": "Python 3"
    },
    "language_info": {
      "name": "python"
    }
  },
  "cells": [
    {
      "cell_type": "code",
      "metadata": {
        "id": "oeLTW5p6pUVn"
      },
      "source": [
        "# se utiliza para el manejo de rutas y directorios.\n",
        "import os\n",
        "\n",
        "# Calculo cientifico y vectorial para python\n",
        "import numpy as np\n",
        "\n",
        "# Librerias para graficar\n",
        "from matplotlib import pyplot\n",
        "\n",
        "#Para manejar csv\n",
        "import pandas as pd\n",
        "import csv\n",
        "\n",
        "# Modulo de optimización de scipy\n",
        "from scipy import optimize\n",
        "\n",
        "# le dice a matplotlib que incruste gráficos en el cuaderno\n",
        "%matplotlib inline"
      ],
      "execution_count": 42,
      "outputs": []
    },
    {
      "cell_type": "code",
      "metadata": {
        "colab": {
          "base_uri": "https://localhost:8080/"
        },
        "id": "dpVAUt7spaK-",
        "outputId": "b5b2e1a9-8039-4e40-fde2-e8ae1aed2733"
      },
      "source": [
        "from google.colab import drive\n",
        "drive.mount('/content/gdrive')"
      ],
      "execution_count": 3,
      "outputs": [
        {
          "output_type": "stream",
          "text": [
            "Mounted at /content/gdrive\n"
          ],
          "name": "stdout"
        }
      ]
    },
    {
      "cell_type": "code",
      "metadata": {
        "colab": {
          "base_uri": "https://localhost:8080/"
        },
        "id": "IaAjvBhJphC1",
        "outputId": "ceb41e99-d7b6-48b5-b8f4-25d78899c195"
      },
      "source": [
        "!ls\n",
        "%mkdir data\n",
        "!ls"
      ],
      "execution_count": 4,
      "outputs": [
        {
          "output_type": "stream",
          "text": [
            "gdrive\tsample_data\n",
            "data  gdrive  sample_data\n"
          ],
          "name": "stdout"
        }
      ]
    },
    {
      "cell_type": "code",
      "metadata": {
        "colab": {
          "base_uri": "https://localhost:8080/",
          "height": 35
        },
        "id": "ycnGCubnpknl",
        "outputId": "158094c0-4e66-498b-f6c2-4c90b4f70fe1"
      },
      "source": [
        "import shutil\n",
        "#Para copiar un archivo de drive a data\n",
        "#shutil.copy(\"direccion inicial\",\"direccion final\")\n",
        "shutil.copy(\"/content/gdrive/MyDrive/dataset/Brouken.csv\",\"/content/data/dat_01.csv\")"
      ],
      "execution_count": 43,
      "outputs": [
        {
          "output_type": "execute_result",
          "data": {
            "application/vnd.google.colaboratory.intrinsic+json": {
              "type": "string"
            },
            "text/plain": [
              "'/content/data/dat_01.csv'"
            ]
          },
          "metadata": {
            "tags": []
          },
          "execution_count": 43
        }
      ]
    },
    {
      "cell_type": "code",
      "metadata": {
        "colab": {
          "base_uri": "https://localhost:8080/"
        },
        "id": "ZCgsAqn6plQ_",
        "outputId": "97d77e2a-f65d-475c-d5a2-c1b90ca05dce"
      },
      "source": [
        "#Con numpy\n",
        "datos_awa = (np.genfromtxt(\"/content/data/dat_01.csv\", delimiter=\",\"))[1:]\n",
        "print(datos_awa)\n",
        "print(datos_awa.shape)"
      ],
      "execution_count": 44,
      "outputs": [
        {
          "output_type": "stream",
          "text": [
            "[[1.         0.37059426 0.42438945 ... 0.56405011 1.         0.01646874]\n",
            " [1.         0.46429094 0.53821413 ... 0.57017495 1.         0.02079431]\n",
            " [1.         0.42607127 0.49901875 ... 0.56370608 1.         0.01647411]\n",
            " ...\n",
            " [0.         0.47272461 0.533744   ... 0.5651584  1.         0.09764874]\n",
            " [0.         0.50626432 0.5599106  ... 0.56530151 1.         0.04400945]\n",
            " [0.         0.49305319 0.57010467 ... 0.56516694 1.         0.23390224]]\n",
            "(6819, 96)\n"
          ],
          "name": "stdout"
        }
      ]
    },
    {
      "cell_type": "code",
      "metadata": {
        "colab": {
          "base_uri": "https://localhost:8080/"
        },
        "id": "Q_kiaMWWpnWl",
        "outputId": "2617cde9-ccba-4d00-db7d-43f36ae4bbda"
      },
      "source": [
        "# Con Numpy\n",
        "data = (np.genfromtxt(\"/content/data/dat_01.csv\", delimiter=','))[1:]\n",
        "#Cambiamos estos dos valores al valor n de las x\n",
        "X, y = data[:, 1:96], data[:, 0]\n",
        "print(X[0])\n",
        "print(X)\n",
        "print(y)"
      ],
      "execution_count": 49,
      "outputs": [
        {
          "output_type": "stream",
          "text": [
            "[3.70594257e-01 4.24389446e-01 4.05749772e-01 6.01457213e-01\n",
            " 6.01457213e-01 9.98969203e-01 7.96887146e-01 8.08809361e-01\n",
            " 3.02646434e-01 7.80984850e-01 1.25696869e-04 0.00000000e+00\n",
            " 4.58143144e-01 7.25072507e-04 0.00000000e+00 1.47949939e-01\n",
            " 1.47949939e-01 1.47949939e-01 1.69140588e-01 3.11664427e-01\n",
            " 1.75597804e-02 9.59205276e-02 1.38736160e-01 2.21022784e-02\n",
            " 8.48194995e-01 6.88979463e-01 6.88979463e-01 2.17535386e-01\n",
            " 4.98000000e+09 3.26977269e-04 2.63099984e-01 3.63725271e-01\n",
            " 2.25896331e-03 1.20775509e-03 6.29951302e-01 2.12659244e-02\n",
            " 2.07576261e-01 7.92423739e-01 5.02445473e-03 3.90284354e-01\n",
            " 6.47850249e-03 9.58848340e-02 1.37757334e-01 3.98035698e-01\n",
            " 8.69565217e-02 1.81388413e-03 3.48736428e-03 1.82092597e-04\n",
            " 1.16500653e-04 3.29032258e-02 3.41641820e-02 3.92912869e-01\n",
            " 3.71353016e-02 6.72775292e-01 1.66672959e-01 1.90642959e-01\n",
            " 4.09440595e-03 1.99677086e-03 1.47336025e-04 1.47308450e-01\n",
            " 3.34015171e-01 2.76920158e-01 1.03598999e-03 6.76269176e-01\n",
            " 7.21274552e-01 3.39077007e-01 2.55923680e-02 9.03224771e-01\n",
            " 2.02161301e-03 6.48557077e-02 7.01000000e+08 6.55000000e+09\n",
            " 5.93830504e-01 4.58000000e+08 6.71567654e-01 4.24205762e-01\n",
            " 6.76269176e-01 3.39077007e-01 1.26549488e-01 6.37555395e-01\n",
            " 4.58609148e-01 5.20381918e-01 3.12904948e-01 1.18250477e-01\n",
            " 0.00000000e+00 7.16845343e-01 9.21944002e-03 6.22878959e-01\n",
            " 6.01453290e-01 8.27890214e-01 2.90201893e-01 2.66006308e-02\n",
            " 5.64050112e-01 1.00000000e+00 1.64687409e-02]\n",
            "[[0.37059426 0.42438945 0.40574977 ... 0.56405011 1.         0.01646874]\n",
            " [0.46429094 0.53821413 0.51673002 ... 0.57017495 1.         0.02079431]\n",
            " [0.42607127 0.49901875 0.47229509 ... 0.56370608 1.         0.01647411]\n",
            " ...\n",
            " [0.47272461 0.533744   0.52063815 ... 0.5651584  1.         0.09764874]\n",
            " [0.50626432 0.5599106  0.55404465 ... 0.56530151 1.         0.04400945]\n",
            " [0.49305319 0.57010467 0.54954762 ... 0.56516694 1.         0.23390224]]\n",
            "[1. 1. 1. ... 0. 0. 0.]\n"
          ],
          "name": "stdout"
        }
      ]
    },
    {
      "cell_type": "code",
      "metadata": {
        "id": "T54V0UPtql5I"
      },
      "source": [
        "def sigmoid(z):\n",
        "    # Calcula la sigmoide de una entrada z\n",
        "    # convierte la intrada a un arreglo numpy\n",
        "    z = np.array(z)\n",
        "\n",
        "  \n",
        "    g = np.zeros(z.shape)\n",
        "\n",
        "    g = 1 / (1 + np.exp(-z))\n",
        "\n",
        "    return g"
      ],
      "execution_count": 23,
      "outputs": []
    },
    {
      "cell_type": "code",
      "metadata": {
        "colab": {
          "base_uri": "https://localhost:8080/"
        },
        "id": "xgfqj1ezqpdX",
        "outputId": "4595fa0f-16b3-4894-9cf7-a3cbf1f6e379"
      },
      "source": [
        "# Prueba la implementacion de la funcion sigmoid\n",
        "z = 0\n",
        "g = sigmoid(z)\n",
        "\n",
        "print('g(', z, ') = ', g)"
      ],
      "execution_count": 24,
      "outputs": [
        {
          "output_type": "stream",
          "text": [
            "g( 0 ) =  0.5\n"
          ],
          "name": "stdout"
        }
      ]
    },
    {
      "cell_type": "code",
      "metadata": {
        "colab": {
          "base_uri": "https://localhost:8080/"
        },
        "id": "ehT_tB_wqrDs",
        "outputId": "85f06fd4-e6fe-4ab0-8d7b-e533d15bfb4f"
      },
      "source": [
        "# Configurar la matriz adecuadamente, y agregar una columna de unos que corresponde al termino de intercepción. \n",
        "m, n = X.shape\n",
        "print(X.shape)\n",
        "print(X[:5])\n",
        "# Agraga el termino de intercepción a A\n",
        "X = np.concatenate([np.ones((m, 1)), X], axis=1)\n",
        "print(X[:2])\n",
        "print(\"_______-----\"*10)\n",
        "print(X[1,1:96])"
      ],
      "execution_count": 50,
      "outputs": [
        {
          "output_type": "stream",
          "text": [
            "(6819, 95)\n",
            "[[3.70594257e-01 4.24389446e-01 4.05749772e-01 6.01457213e-01\n",
            "  6.01457213e-01 9.98969203e-01 7.96887146e-01 8.08809361e-01\n",
            "  3.02646434e-01 7.80984850e-01 1.25696869e-04 0.00000000e+00\n",
            "  4.58143144e-01 7.25072507e-04 0.00000000e+00 1.47949939e-01\n",
            "  1.47949939e-01 1.47949939e-01 1.69140588e-01 3.11664427e-01\n",
            "  1.75597804e-02 9.59205276e-02 1.38736160e-01 2.21022784e-02\n",
            "  8.48194995e-01 6.88979463e-01 6.88979463e-01 2.17535386e-01\n",
            "  4.98000000e+09 3.26977269e-04 2.63099984e-01 3.63725271e-01\n",
            "  2.25896331e-03 1.20775509e-03 6.29951302e-01 2.12659244e-02\n",
            "  2.07576261e-01 7.92423739e-01 5.02445473e-03 3.90284354e-01\n",
            "  6.47850249e-03 9.58848340e-02 1.37757334e-01 3.98035698e-01\n",
            "  8.69565217e-02 1.81388413e-03 3.48736428e-03 1.82092597e-04\n",
            "  1.16500653e-04 3.29032258e-02 3.41641820e-02 3.92912869e-01\n",
            "  3.71353016e-02 6.72775292e-01 1.66672959e-01 1.90642959e-01\n",
            "  4.09440595e-03 1.99677086e-03 1.47336025e-04 1.47308450e-01\n",
            "  3.34015171e-01 2.76920158e-01 1.03598999e-03 6.76269176e-01\n",
            "  7.21274552e-01 3.39077007e-01 2.55923680e-02 9.03224771e-01\n",
            "  2.02161301e-03 6.48557077e-02 7.01000000e+08 6.55000000e+09\n",
            "  5.93830504e-01 4.58000000e+08 6.71567654e-01 4.24205762e-01\n",
            "  6.76269176e-01 3.39077007e-01 1.26549488e-01 6.37555395e-01\n",
            "  4.58609148e-01 5.20381918e-01 3.12904948e-01 1.18250477e-01\n",
            "  0.00000000e+00 7.16845343e-01 9.21944002e-03 6.22878959e-01\n",
            "  6.01453290e-01 8.27890214e-01 2.90201893e-01 2.66006308e-02\n",
            "  5.64050112e-01 1.00000000e+00 1.64687409e-02]\n",
            " [4.64290937e-01 5.38214130e-01 5.16730018e-01 6.10235086e-01\n",
            "  6.10235086e-01 9.98945978e-01 7.97380191e-01 8.09300726e-01\n",
            "  3.03556430e-01 7.81505974e-01 2.89785054e-04 0.00000000e+00\n",
            "  4.61867257e-01 6.47064706e-04 0.00000000e+00 1.82251064e-01\n",
            "  1.82251064e-01 1.82251064e-01 2.08943935e-01 3.18136804e-01\n",
            "  2.11443350e-02 9.37220096e-02 1.69917903e-01 2.20801699e-02\n",
            "  8.48087884e-01 6.89692901e-01 6.89701702e-01 2.17619596e-01\n",
            "  6.11000000e+09 4.43040101e-04 2.64515778e-01 3.76709139e-01\n",
            "  6.01620588e-03 4.03936683e-03 6.35172463e-01 1.25023938e-02\n",
            "  1.71176346e-01 8.28823654e-01 5.05888175e-03 3.76760020e-01\n",
            "  5.83503949e-03 9.37433843e-02 1.68961617e-01 3.97724883e-01\n",
            "  6.44677661e-02 1.28635630e-03 4.91680792e-03 9.36000000e+09\n",
            "  7.19000000e+08 2.54838710e-02 6.88865062e-03 3.91589969e-01\n",
            "  1.23349721e-02 7.51110917e-01 1.27236002e-01 1.82419054e-01\n",
            "  1.49477270e-02 4.13602976e-03 1.38391008e-03 5.69628274e-02\n",
            "  3.41105992e-01 2.89641576e-01 5.20968240e-03 3.08588593e-01\n",
            "  7.31975289e-01 3.29740148e-01 2.39468187e-02 9.31065218e-01\n",
            "  2.22560834e-03 2.55158600e-02 1.06519763e-04 7.70000000e+09\n",
            "  5.93915548e-01 2.49000000e+09 6.71569942e-01 4.68828128e-01\n",
            "  3.08588593e-01 3.29740148e-01 1.20916106e-01 6.41099985e-01\n",
            "  4.59001053e-01 5.67101309e-01 3.14163135e-01 4.77752816e-02\n",
            "  0.00000000e+00 7.95297136e-01 8.32330179e-03 6.23651742e-01\n",
            "  6.10236526e-01 8.39969268e-01 2.83845980e-01 2.64576820e-01\n",
            "  5.70174946e-01 1.00000000e+00 2.07943063e-02]\n",
            " [4.26071272e-01 4.99018753e-01 4.72295091e-01 6.01450006e-01\n",
            "  6.01363525e-01 9.98857353e-01 7.96403369e-01 8.08387521e-01\n",
            "  3.02035177e-01 7.80283936e-01 2.36129721e-04 2.55000000e+07\n",
            "  4.58520587e-01 7.90079008e-04 0.00000000e+00 1.77910750e-01\n",
            "  1.77910750e-01 1.93712865e-01 1.80580505e-01 3.07101931e-01\n",
            "  5.94400835e-03 9.23377575e-02 1.42803344e-01 2.27600968e-02\n",
            "  8.48094013e-01 6.89462677e-01 6.89469660e-01 2.17601299e-01\n",
            "  7.28000000e+09 3.96425315e-04 2.64183976e-01 3.68913230e-01\n",
            "  1.15425537e-02 5.34756022e-03 6.29631443e-01 2.12476860e-02\n",
            "  2.07515796e-01 7.92484204e-01 5.09989941e-03 3.79092920e-01\n",
            "  6.56198206e-03 9.23184653e-02 1.48035593e-01 4.06580451e-01\n",
            "  1.49925037e-02 1.49533848e-03 4.22684946e-03 6.50000000e+07\n",
            "  2.65000000e+09 1.33870968e-02 2.89969596e-02 3.81967843e-01\n",
            "  1.41016312e-01 8.29501915e-01 3.40200878e-01 6.02805702e-01\n",
            "  9.90944451e-04 6.30248138e-03 5.34000000e+09 9.81620645e-02\n",
            "  3.36731495e-01 2.77455528e-01 1.38787858e-02 4.46027487e-01\n",
            "  7.42728638e-01 3.34776851e-01 3.71511569e-03 9.09903362e-01\n",
            "  2.06007065e-03 2.13874282e-02 1.79109370e-03 1.02267647e-03\n",
            "  5.94501851e-01 7.61000000e+08 6.71571322e-01 2.76179222e-01\n",
            "  4.46027487e-01 3.34776851e-01 1.17922319e-01 6.42764550e-01\n",
            "  4.59254036e-01 5.38490540e-01 3.14515426e-01 2.53464891e-02\n",
            "  0.00000000e+00 7.74669697e-01 4.00028529e-02 6.23841038e-01\n",
            "  6.01449340e-01 8.36774309e-01 2.90188533e-01 2.65547199e-02\n",
            "  5.63706076e-01 1.00000000e+00 1.64741143e-02]\n",
            " [3.99844001e-01 4.51264719e-01 4.57733283e-01 5.83541129e-01\n",
            "  5.83541129e-01 9.98699747e-01 7.96966968e-01 8.08965598e-01\n",
            "  3.03349536e-01 7.81240991e-01 1.07888849e-04 0.00000000e+00\n",
            "  4.65705443e-01 4.49044904e-04 0.00000000e+00 1.54186507e-01\n",
            "  1.54186507e-01 1.54186507e-01 1.93722227e-01 3.21673622e-01\n",
            "  1.43684680e-02 7.77623972e-02 1.48602847e-01 2.20460669e-02\n",
            "  8.48005477e-01 6.89109536e-01 6.89109536e-01 2.17568188e-01\n",
            "  4.88000000e+09 3.82425906e-04 2.63371176e-01 3.84076599e-01\n",
            "  4.19405868e-03 2.89649115e-03 6.30228353e-01 9.57240172e-03\n",
            "  1.51464764e-01 8.48535236e-01 5.04692406e-03 3.79742688e-01\n",
            "  5.36584771e-03 7.77272949e-02 1.47560516e-01 3.97924501e-01\n",
            "  8.99550225e-02 1.96605561e-03 3.21496732e-03 7.13000000e+09\n",
            "  9.15000000e+09 2.80645161e-02 1.54634784e-02 3.78496642e-01\n",
            "  2.13199897e-02 7.25754180e-01 1.61574532e-01 2.25814869e-01\n",
            "  1.88506248e-02 2.96123765e-03 1.01064643e-03 9.87146304e-02\n",
            "  3.48716439e-01 2.76580304e-01 3.54014790e-03 6.15848369e-01\n",
            "  7.29824909e-01 3.31508979e-01 2.21651997e-02 9.06902159e-01\n",
            "  1.83135856e-03 2.41610702e-02 8.14000000e+09 6.05000000e+09\n",
            "  5.93888793e-01 2.03000000e+09 6.71519170e-01 5.59143963e-01\n",
            "  6.15848369e-01 3.31508979e-01 1.20760455e-01 5.79039312e-01\n",
            "  4.48517912e-01 6.04105056e-01 3.02382255e-01 6.72496173e-02\n",
            "  0.00000000e+00 7.39554525e-01 3.25247529e-03 6.22928709e-01\n",
            "  5.83537612e-01 8.34697107e-01 2.81721193e-01 2.66966344e-02\n",
            "  5.64663420e-01 1.00000000e+00 2.39823322e-02]\n",
            " [4.65022181e-01 5.38432185e-01 5.22297768e-01 5.98783494e-01\n",
            "  5.98783494e-01 9.98973132e-01 7.97366081e-01 8.09303720e-01\n",
            "  3.03474978e-01 7.81550045e-01 7.89000000e+09 0.00000000e+00\n",
            "  4.62746282e-01 6.86068607e-04 0.00000000e+00 1.67502423e-01\n",
            "  1.67502423e-01 1.67502423e-01 2.12536636e-01 3.19162481e-01\n",
            "  2.96897923e-02 9.68976468e-02 1.68411539e-01 2.20959097e-02\n",
            "  8.48258202e-01 6.89696883e-01 6.89696883e-01 2.17625639e-01\n",
            "  5.51000000e+09 4.38947582e-04 2.65218236e-01 3.79689654e-01\n",
            "  6.02244611e-03 3.72744661e-03 6.36054986e-01 5.14960012e-03\n",
            "  1.06509055e-01 8.93490945e-01 5.30331920e-03 3.75025443e-01\n",
            "  6.62352540e-03 9.69270604e-02 1.67460976e-01 4.00078776e-01\n",
            "  1.75412294e-01 1.44867256e-03 4.36689053e-03 1.63367441e-04\n",
            "  2.93521126e-04 4.01612903e-02 5.81114228e-02 3.94371452e-01\n",
            "  2.39882117e-02 7.51822452e-01 2.60329881e-01 3.58380160e-01\n",
            "  1.41609738e-02 4.27477087e-03 6.80463560e-04 1.10194846e-01\n",
            "  3.44638754e-01 2.87912653e-01 4.86857029e-03 9.75006616e-01\n",
            "  7.31999641e-01 3.30726319e-01 0.00000000e+00 9.13850197e-01\n",
            "  2.22393003e-03 2.63852457e-02 6.68000000e+09 5.05000000e+09\n",
            "  5.93915261e-01 8.24000000e+08 6.71563053e-01 3.09554917e-01\n",
            "  9.75006616e-01 3.30726319e-01 1.10933234e-01 6.22374075e-01\n",
            "  4.54410932e-01 5.78468903e-01 3.11567161e-01 4.77253718e-02\n",
            "  0.00000000e+00 7.95015873e-01 3.87756309e-03 6.23520698e-01\n",
            "  5.98781510e-01 8.39972746e-01 2.78513790e-01 2.47518481e-02\n",
            "  5.75616645e-01 1.00000000e+00 3.54902009e-02]]\n",
            "[[1.00000000e+00 3.70594257e-01 4.24389446e-01 4.05749772e-01\n",
            "  6.01457213e-01 6.01457213e-01 9.98969203e-01 7.96887146e-01\n",
            "  8.08809361e-01 3.02646434e-01 7.80984850e-01 1.25696869e-04\n",
            "  0.00000000e+00 4.58143144e-01 7.25072507e-04 0.00000000e+00\n",
            "  1.47949939e-01 1.47949939e-01 1.47949939e-01 1.69140588e-01\n",
            "  3.11664427e-01 1.75597804e-02 9.59205276e-02 1.38736160e-01\n",
            "  2.21022784e-02 8.48194995e-01 6.88979463e-01 6.88979463e-01\n",
            "  2.17535386e-01 4.98000000e+09 3.26977269e-04 2.63099984e-01\n",
            "  3.63725271e-01 2.25896331e-03 1.20775509e-03 6.29951302e-01\n",
            "  2.12659244e-02 2.07576261e-01 7.92423739e-01 5.02445473e-03\n",
            "  3.90284354e-01 6.47850249e-03 9.58848340e-02 1.37757334e-01\n",
            "  3.98035698e-01 8.69565217e-02 1.81388413e-03 3.48736428e-03\n",
            "  1.82092597e-04 1.16500653e-04 3.29032258e-02 3.41641820e-02\n",
            "  3.92912869e-01 3.71353016e-02 6.72775292e-01 1.66672959e-01\n",
            "  1.90642959e-01 4.09440595e-03 1.99677086e-03 1.47336025e-04\n",
            "  1.47308450e-01 3.34015171e-01 2.76920158e-01 1.03598999e-03\n",
            "  6.76269176e-01 7.21274552e-01 3.39077007e-01 2.55923680e-02\n",
            "  9.03224771e-01 2.02161301e-03 6.48557077e-02 7.01000000e+08\n",
            "  6.55000000e+09 5.93830504e-01 4.58000000e+08 6.71567654e-01\n",
            "  4.24205762e-01 6.76269176e-01 3.39077007e-01 1.26549488e-01\n",
            "  6.37555395e-01 4.58609148e-01 5.20381918e-01 3.12904948e-01\n",
            "  1.18250477e-01 0.00000000e+00 7.16845343e-01 9.21944002e-03\n",
            "  6.22878959e-01 6.01453290e-01 8.27890214e-01 2.90201893e-01\n",
            "  2.66006308e-02 5.64050112e-01 1.00000000e+00 1.64687409e-02]\n",
            " [1.00000000e+00 4.64290937e-01 5.38214130e-01 5.16730018e-01\n",
            "  6.10235086e-01 6.10235086e-01 9.98945978e-01 7.97380191e-01\n",
            "  8.09300726e-01 3.03556430e-01 7.81505974e-01 2.89785054e-04\n",
            "  0.00000000e+00 4.61867257e-01 6.47064706e-04 0.00000000e+00\n",
            "  1.82251064e-01 1.82251064e-01 1.82251064e-01 2.08943935e-01\n",
            "  3.18136804e-01 2.11443350e-02 9.37220096e-02 1.69917903e-01\n",
            "  2.20801699e-02 8.48087884e-01 6.89692901e-01 6.89701702e-01\n",
            "  2.17619596e-01 6.11000000e+09 4.43040101e-04 2.64515778e-01\n",
            "  3.76709139e-01 6.01620588e-03 4.03936683e-03 6.35172463e-01\n",
            "  1.25023938e-02 1.71176346e-01 8.28823654e-01 5.05888175e-03\n",
            "  3.76760020e-01 5.83503949e-03 9.37433843e-02 1.68961617e-01\n",
            "  3.97724883e-01 6.44677661e-02 1.28635630e-03 4.91680792e-03\n",
            "  9.36000000e+09 7.19000000e+08 2.54838710e-02 6.88865062e-03\n",
            "  3.91589969e-01 1.23349721e-02 7.51110917e-01 1.27236002e-01\n",
            "  1.82419054e-01 1.49477270e-02 4.13602976e-03 1.38391008e-03\n",
            "  5.69628274e-02 3.41105992e-01 2.89641576e-01 5.20968240e-03\n",
            "  3.08588593e-01 7.31975289e-01 3.29740148e-01 2.39468187e-02\n",
            "  9.31065218e-01 2.22560834e-03 2.55158600e-02 1.06519763e-04\n",
            "  7.70000000e+09 5.93915548e-01 2.49000000e+09 6.71569942e-01\n",
            "  4.68828128e-01 3.08588593e-01 3.29740148e-01 1.20916106e-01\n",
            "  6.41099985e-01 4.59001053e-01 5.67101309e-01 3.14163135e-01\n",
            "  4.77752816e-02 0.00000000e+00 7.95297136e-01 8.32330179e-03\n",
            "  6.23651742e-01 6.10236526e-01 8.39969268e-01 2.83845980e-01\n",
            "  2.64576820e-01 5.70174946e-01 1.00000000e+00 2.07943063e-02]]\n",
            "_______-----_______-----_______-----_______-----_______-----_______-----_______-----_______-----_______-----_______-----\n",
            "[4.64290937e-01 5.38214130e-01 5.16730018e-01 6.10235086e-01\n",
            " 6.10235086e-01 9.98945978e-01 7.97380191e-01 8.09300726e-01\n",
            " 3.03556430e-01 7.81505974e-01 2.89785054e-04 0.00000000e+00\n",
            " 4.61867257e-01 6.47064706e-04 0.00000000e+00 1.82251064e-01\n",
            " 1.82251064e-01 1.82251064e-01 2.08943935e-01 3.18136804e-01\n",
            " 2.11443350e-02 9.37220096e-02 1.69917903e-01 2.20801699e-02\n",
            " 8.48087884e-01 6.89692901e-01 6.89701702e-01 2.17619596e-01\n",
            " 6.11000000e+09 4.43040101e-04 2.64515778e-01 3.76709139e-01\n",
            " 6.01620588e-03 4.03936683e-03 6.35172463e-01 1.25023938e-02\n",
            " 1.71176346e-01 8.28823654e-01 5.05888175e-03 3.76760020e-01\n",
            " 5.83503949e-03 9.37433843e-02 1.68961617e-01 3.97724883e-01\n",
            " 6.44677661e-02 1.28635630e-03 4.91680792e-03 9.36000000e+09\n",
            " 7.19000000e+08 2.54838710e-02 6.88865062e-03 3.91589969e-01\n",
            " 1.23349721e-02 7.51110917e-01 1.27236002e-01 1.82419054e-01\n",
            " 1.49477270e-02 4.13602976e-03 1.38391008e-03 5.69628274e-02\n",
            " 3.41105992e-01 2.89641576e-01 5.20968240e-03 3.08588593e-01\n",
            " 7.31975289e-01 3.29740148e-01 2.39468187e-02 9.31065218e-01\n",
            " 2.22560834e-03 2.55158600e-02 1.06519763e-04 7.70000000e+09\n",
            " 5.93915548e-01 2.49000000e+09 6.71569942e-01 4.68828128e-01\n",
            " 3.08588593e-01 3.29740148e-01 1.20916106e-01 6.41099985e-01\n",
            " 4.59001053e-01 5.67101309e-01 3.14163135e-01 4.77752816e-02\n",
            " 0.00000000e+00 7.95297136e-01 8.32330179e-03 6.23651742e-01\n",
            " 6.10236526e-01 8.39969268e-01 2.83845980e-01 2.64576820e-01\n",
            " 5.70174946e-01 1.00000000e+00 2.07943063e-02]\n"
          ],
          "name": "stdout"
        }
      ]
    },
    {
      "cell_type": "code",
      "metadata": {
        "colab": {
          "base_uri": "https://localhost:8080/"
        },
        "id": "wc2uoIhlytG4",
        "outputId": "176a01f1-dd0f-45b3-dac2-906bd2215eed"
      },
      "source": [
        "print(X.shape)"
      ],
      "execution_count": 47,
      "outputs": [
        {
          "output_type": "stream",
          "text": [
            "(6819, 96)\n"
          ],
          "name": "stdout"
        }
      ]
    },
    {
      "cell_type": "code",
      "metadata": {
        "id": "MqBQSfrCqswE"
      },
      "source": [
        "def calcularCosto(theta, X, y):\n",
        "    # Inicializar algunos valores utiles\n",
        "    m = y.size  # numero de ejemplos de entrenamiento\n",
        "\n",
        "    J = 0\n",
        "    h = sigmoid(X.dot(theta.T))\n",
        "    J = (1 / m) * np.sum(-y.dot(np.log(h)) - (1 - y).dot(np.log(1 - h)))\n",
        "    \n",
        "    return J"
      ],
      "execution_count": 27,
      "outputs": []
    },
    {
      "cell_type": "code",
      "metadata": {
        "id": "UINEZ2yOqu-I"
      },
      "source": [
        "def descensoGradiente(theta, X, y, alpha, num_iters):\n",
        "    # Inicializa algunos valores\n",
        "    m = y.shape[0] # numero de ejemplos de entrenamiento\n",
        "    \n",
        "    # realiza una copia de theta, el cual será acutalizada por el descenso por el gradiente\n",
        "    theta = theta.copy()\n",
        "    J_history = []\n",
        "    \n",
        "    for i in range(num_iters):\n",
        "        h = sigmoid(X.dot(theta.T))\n",
        "        theta = theta - (alpha / m) * (h - y).dot(X)\n",
        "       \n",
        "        J_history.append(calcularCosto(theta, X, y))\n",
        "    return theta, J_history"
      ],
      "execution_count": 28,
      "outputs": []
    },
    {
      "cell_type": "code",
      "metadata": {
        "colab": {
          "base_uri": "https://localhost:8080/",
          "height": 1000
        },
        "id": "W_bmV1V6qyTY",
        "outputId": "976b42a8-31ee-4025-af7b-9adb79e2a125"
      },
      "source": [
        "# Elegir algun valor para alpha (probar varias alternativas)\n",
        "\n",
        "#Caso 1\n",
        "alpha = 0.0001\n",
        "num_iters = 2000\n",
        "\n",
        "\n",
        "\"\"\"Caso 2 aumentar alpha y mantener iteraciones (Acotacion: Por mas que baje alpha no se vizualiza el grafico)\"\"\"\n",
        "#alpha = 0.0000000001\n",
        "#num_iters = 5000\n",
        "\n",
        "# inicializa theta y ejecuta el descenso por el gradiente\n",
        "theta = np.zeros(96)\n",
        "theta, J_history = descensoGradiente(theta, X, y, alpha, num_iters)\n",
        "\n",
        "# Grafica la convergencia del costo\n",
        "pyplot.plot(np.arange(len(J_history)), J_history, lw=4)\n",
        "pyplot.xlabel('Numero de iteraciones')\n",
        "pyplot.ylabel('Costo J')\n",
        "\n",
        "# Muestra los resultados del descenso por el gradiente\n",
        "print('theta calculado por el descenso por el gradiente: {:s}'.format(str(theta)))\n",
        "\n",
        "# verificar Bancarrota\n",
        "X_array = X[1]\n",
        "X_array1 = X[2248]\n",
        "print(\"-----{}\".format(X_array))\n",
        "#X_array1 = [1, 90, 90, 80, 76, 82, 11, 65, 85, 43, 50]\n",
        "#aprueba = sigmoid(np.dot(X_array, theta))   # Se debe cambiar esto\n",
        "br1 = sigmoid(np.dot(X_array, theta))\n",
        "br2 = sigmoid(np.dot(X_array1, theta))\n",
        "print(\"\\n\\nEL CASO DE ESTUDIO ES PARA EVALUAR SI UNA EMPRESA ENTRARA EN BANCARROTA = 1 O NO = 0 \"\"\") \n",
        "print('Caso 1 de estudio (0) :  (usando el descenso por el gradiente):{:.0f}'.format(br1))\n",
        "print('Caso 2 de estudio (1) :  (usando el descenso por el gradiente):{:.0f}'.format(br2))"
      ],
      "execution_count": 63,
      "outputs": [
        {
          "output_type": "stream",
          "text": [
            "/usr/local/lib/python3.7/dist-packages/ipykernel_launcher.py:9: RuntimeWarning: overflow encountered in exp\n",
            "  if __name__ == '__main__':\n",
            "/usr/local/lib/python3.7/dist-packages/ipykernel_launcher.py:7: RuntimeWarning: divide by zero encountered in log\n",
            "  import sys\n"
          ],
          "name": "stderr"
        },
        {
          "output_type": "stream",
          "text": [
            "theta calculado por el descenso por el gradiente: [-5.95853444e-09 -4.52050171e-09 -5.06963585e-09 -4.90800455e-09\n",
            " -3.81409706e-09 -3.81246902e-09 -5.93872102e-09 -4.73843376e-09\n",
            " -4.81004230e-09 -1.81472492e-09 -4.64870925e-09 -8.27611408e-03\n",
            " -1.34038489e-03 -2.86797747e-09 -8.55148336e-02 -1.68929571e-09\n",
            " -1.65838287e-09 -1.65970607e-09 -1.65862809e-09 -2.06838933e-09\n",
            " -2.02921499e-09 -6.85578535e-02 -1.04235211e-09 -1.75291301e-09\n",
            " -1.56999069e-10 -5.06851607e-09 -4.16042303e-09 -4.15964593e-09\n",
            " -1.30750004e-09 -1.31382201e-02  2.10339639e-01 -1.59475141e-09\n",
            " -2.32163136e-09 -6.43239504e-03  1.56122576e-03 -3.76100972e-09\n",
            "  1.67990073e-05  5.47660137e-10 -6.50619458e-09 -5.68017189e-11\n",
            " -1.97168207e-09  4.33766405e-11 -1.03719137e-09 -1.70059467e-09\n",
            " -2.30467791e-09 -1.47041293e-09 -5.52508359e-02 -4.42901525e-02\n",
            " -5.56566063e-03  7.59530428e-03 -1.79482471e-10  3.29488193e-02\n",
            " -2.68847950e-09 -3.77472636e-03 -5.98511958e-09 -4.45445843e-09\n",
            " -4.40274053e-09 -2.70160459e-09 -2.85870365e-02  2.85995597e-02\n",
            "  3.34835892e-10 -2.29806066e-09 -1.65271039e-09 -4.42712284e-03\n",
            " -5.09945995e-09 -4.54667577e-09 -1.78849829e-09 -6.81370311e-04\n",
            " -6.03284880e-09 -2.02471542e-11  1.16619459e-10 -4.15544311e-03\n",
            "  5.06802164e-03 -3.53937216e-09 -2.86759996e-04 -3.99783058e-09\n",
            "  2.34080070e-01 -5.09945995e-09 -1.78849829e-09 -4.42816120e-10\n",
            " -4.45206467e-09 -2.99936433e-09 -3.99071087e-09 -1.99260269e-09\n",
            "  2.66565603e-10  3.33758616e-10 -5.96440560e-09  4.47011294e-03\n",
            " -3.72572893e-09 -3.81408749e-09 -5.25206621e-09 -1.45240813e-09\n",
            " -1.44499543e-10 -3.37502542e-09 -5.95853444e-09 -8.00092667e-10]\n",
            "-----[1.00000000e+00 4.64290937e-01 5.38214130e-01 5.16730018e-01\n",
            " 6.10235086e-01 6.10235086e-01 9.98945978e-01 7.97380191e-01\n",
            " 8.09300726e-01 3.03556430e-01 7.81505974e-01 2.89785054e-04\n",
            " 0.00000000e+00 4.61867257e-01 6.47064706e-04 0.00000000e+00\n",
            " 1.82251064e-01 1.82251064e-01 1.82251064e-01 2.08943935e-01\n",
            " 3.18136804e-01 2.11443350e-02 9.37220096e-02 1.69917903e-01\n",
            " 2.20801699e-02 8.48087884e-01 6.89692901e-01 6.89701702e-01\n",
            " 2.17619596e-01 6.11000000e+09 4.43040101e-04 2.64515778e-01\n",
            " 3.76709139e-01 6.01620588e-03 4.03936683e-03 6.35172463e-01\n",
            " 1.25023938e-02 1.71176346e-01 8.28823654e-01 5.05888175e-03\n",
            " 3.76760020e-01 5.83503949e-03 9.37433843e-02 1.68961617e-01\n",
            " 3.97724883e-01 6.44677661e-02 1.28635630e-03 4.91680792e-03\n",
            " 9.36000000e+09 7.19000000e+08 2.54838710e-02 6.88865062e-03\n",
            " 3.91589969e-01 1.23349721e-02 7.51110917e-01 1.27236002e-01\n",
            " 1.82419054e-01 1.49477270e-02 4.13602976e-03 1.38391008e-03\n",
            " 5.69628274e-02 3.41105992e-01 2.89641576e-01 5.20968240e-03\n",
            " 3.08588593e-01 7.31975289e-01 3.29740148e-01 2.39468187e-02\n",
            " 9.31065218e-01 2.22560834e-03 2.55158600e-02 1.06519763e-04\n",
            " 7.70000000e+09 5.93915548e-01 2.49000000e+09 6.71569942e-01\n",
            " 4.68828128e-01 3.08588593e-01 3.29740148e-01 1.20916106e-01\n",
            " 6.41099985e-01 4.59001053e-01 5.67101309e-01 3.14163135e-01\n",
            " 4.77752816e-02 0.00000000e+00 7.95297136e-01 8.32330179e-03\n",
            " 6.23651742e-01 6.10236526e-01 8.39969268e-01 2.83845980e-01\n",
            " 2.64576820e-01 5.70174946e-01 1.00000000e+00 2.07943063e-02]\n",
            "\n",
            "\n",
            "EL CASO DE ESTUDIO ES PARA EVALUAR SI UNA EMPRESA ENTRARA EN BANCARROTA = 1 O NO = 0 \n",
            "Caso 1 de estudio (0) :  (usando el descenso por el gradiente):0\n",
            "Caso 2 de estudio (1) :  (usando el descenso por el gradiente):1\n"
          ],
          "name": "stdout"
        },
        {
          "output_type": "stream",
          "text": [
            "/usr/local/lib/python3.7/dist-packages/ipykernel_launcher.py:9: RuntimeWarning: overflow encountered in exp\n",
            "  if __name__ == '__main__':\n"
          ],
          "name": "stderr"
        },
        {
          "output_type": "display_data",
          "data": {
            "image/png": "[encoded data removed]",
            "text/plain": [
              "<Figure size 432x288 with 1 Axes>"
            ]
          },
          "metadata": {
            "tags": [],
            "needs_background": "light"
          }
        }
      ]
    }
  ]
}