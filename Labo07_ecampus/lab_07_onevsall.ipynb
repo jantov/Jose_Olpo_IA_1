{
  "nbformat": 4,
  "nbformat_minor": 0,
  "metadata": {
    "colab": {
      "name": "log_oneforall.ipynb",
      "provenance": []
    },
    "kernelspec": {
      "name": "python3",
      "display_name": "Python 3"
    },
    "language_info": {
      "name": "python"
    }
  },
  "cells": [
    {
      "cell_type": "code",
      "metadata": {
        "id": "CH-zHe9SKzwV"
      },
      "source": [
        "# utilizado para la manipulación de directorios y rutas\n",
        "import os\n",
        "\n",
        "# Cálculo científico y vectorial para python\n",
        "import numpy as np\n",
        "\n",
        "# Libreria para graficos\n",
        "from matplotlib import pyplot\n",
        "\n",
        "# Modulo de optimizacion en scipy\n",
        "from scipy import optimize\n",
        "\n",
        "# modulo para cargar archivos en formato MATLAB\n",
        "from scipy.io import loadmat\n",
        "\n",
        "# le dice a matplotlib que incruste gráficos en el cuaderno\n",
        "%matplotlib inline"
      ],
      "execution_count": 2,
      "outputs": []
    },
    {
      "cell_type": "code",
      "metadata": {
        "colab": {
          "base_uri": "https://localhost:8080/"
        },
        "id": "u2pALSpEUNhw",
        "outputId": "2125b637-87b9-4f56-e673-0b1a77ca422b"
      },
      "source": [
        "from google.colab import drive\n",
        "drive.mount('/content/gdrive')"
      ],
      "execution_count": 3,
      "outputs": [
        {
          "output_type": "stream",
          "text": [
            "Mounted at /content/gdrive\n"
          ],
          "name": "stdout"
        }
      ]
    },
    {
      "cell_type": "code",
      "metadata": {
        "colab": {
          "base_uri": "https://localhost:8080/"
        },
        "id": "9Sbrq_EfUOVA",
        "outputId": "7216d0a0-8f69-4cf5-aff2-e471ef2d1fa4"
      },
      "source": [
        "!ls\n",
        "%mkdir data\n",
        "!ls"
      ],
      "execution_count": 4,
      "outputs": [
        {
          "output_type": "stream",
          "text": [
            "gdrive\tsample_data\n",
            "data  gdrive  sample_data\n"
          ],
          "name": "stdout"
        }
      ]
    },
    {
      "cell_type": "code",
      "metadata": {
        "colab": {
          "base_uri": "https://localhost:8080/",
          "height": 35
        },
        "id": "qyU3P4ptUQ1Z",
        "outputId": "86fe887f-41b1-4e8f-bce9-75529a69a261"
      },
      "source": [
        "import shutil\n",
        "#Para copiar un archivo de drive a data\n",
        "#shutil.copy(\"direccion inicial\",\"direccion final\")\n",
        "shutil.copy(\"/content/gdrive/MyDrive/dataset/oneforall_fetal.csv\",\"/content/data/dat_02.csv\")"
      ],
      "execution_count": 6,
      "outputs": [
        {
          "output_type": "execute_result",
          "data": {
            "application/vnd.google.colaboratory.intrinsic+json": {
              "type": "string"
            },
            "text/plain": [
              "'/content/data/dat_02.csv'"
            ]
          },
          "metadata": {
            "tags": []
          },
          "execution_count": 6
        }
      ]
    },
    {
      "cell_type": "code",
      "metadata": {
        "colab": {
          "base_uri": "https://localhost:8080/"
        },
        "id": "IcM_vsjvTauq",
        "outputId": "eae94b83-e4fc-4c50-b552-78e4301c5394"
      },
      "source": [
        "# Con Numpy\n",
        "data = np.loadtxt(\"/content/data/dat_02.csv\", delimiter=',')\n",
        "#Cambiamos estos dos valores al valor n de las x\n",
        "X, y = data[:, 0:21], data[:, 21]\n",
        "print(X[0])\n",
        "print(X)\n",
        "print(y)"
      ],
      "execution_count": 7,
      "outputs": [
        {
          "output_type": "stream",
          "text": [
            "[132.   0.  99.   0.  12.   0.   0.  26.   6.   0.   5. 143.  50. 193.\n",
            "  10.   0. 133. 113. 117.  89.   0.]\n",
            "[[132.   0.  99. ... 117.  89.   0.]\n",
            " [120.   0.   0. ... 121.  73.   1.]\n",
            " [132.   6.   0. ... 140.  12.   0.]\n",
            " ...\n",
            " [140.   1.   0. ... 152.   4.   1.]\n",
            " [140.   1.   0. ... 151.   4.   1.]\n",
            " [142.   2.   2. ... 145.   1.   0.]]\n",
            "[1. 2. 1. ... 2. 2. 1.]\n"
          ],
          "name": "stdout"
        }
      ]
    },
    {
      "cell_type": "code",
      "metadata": {
        "id": "rwKw_nF9W5Mf"
      },
      "source": [
        "# Son las x que tiene el dataset\n",
        "input_layer_size  = 21\n",
        "\n",
        "# se DEFINE CUANTOS ESTADOS DE SALIDA EXISTEN\n",
        "num_labels = 3\n",
        "\n",
        "#Numero de filas o ejemplos\n",
        "m = y.size\n",
        "\n",
        "#Numero de x es n"
      ],
      "execution_count": 8,
      "outputs": []
    },
    {
      "cell_type": "code",
      "metadata": {
        "id": "RXTdfLKaZnHE"
      },
      "source": [
        "def sigmoid(z):\n",
        "    \"\"\"\n",
        "    Calcula la sigmoide de z.\n",
        "    \"\"\"\n",
        "    return 1.0 / (1.0 + np.exp(-z))"
      ],
      "execution_count": 9,
      "outputs": []
    },
    {
      "cell_type": "code",
      "metadata": {
        "id": "iKNOBz9SaABA"
      },
      "source": [
        "def lrCostFunction(theta, X, y, lambda_):\n",
        "    \n",
        "    # Inicializa algunos valores utiles\n",
        "    m = y.size\n",
        "    \n",
        "    # convierte las etiquetas a valores enteros si son boleanos\n",
        "    if y.dtype == bool:\n",
        "        y = y.astype(int)\n",
        "    \n",
        "    J = 0\n",
        "    grad = np.zeros(theta.shape)\n",
        "    \n",
        "    h = sigmoid(X.dot(theta.T))\n",
        "    \n",
        "    temp = theta\n",
        "    temp[0] = 0\n",
        "    \n",
        "    J = (1 / m) * np.sum(-y.dot(np.log(h)) - (1 - y).dot(np.log(1 - h))) + (lambda_ / (2 * m)) * np.sum(np.square(temp))\n",
        "    \n",
        "    grad = (1 / m) * (h - y).dot(X) \n",
        "    grad = grad + (lambda_ / m) * temp\n",
        "\n",
        "    return J, grad"
      ],
      "execution_count": 10,
      "outputs": []
    },
    {
      "cell_type": "code",
      "metadata": {
        "id": "0JnPS149jQkw"
      },
      "source": [
        "# valores de prueba para los parámetros theta\n",
        "theta_t = np.array([-2, -1, 1, 2], dtype=float)\n",
        "\n",
        "# valores de prueba para las entradas\n",
        "X_t = np.concatenate([np.ones((5, 1)), np.arange(1, 16).reshape(5, 3, order='F')/10.0], axis=1)\n",
        "\n",
        "# valores de testeo para las etiquetas\n",
        "y_t = np.array([1, 0, 1, 0, 1])\n",
        "\n",
        "# valores de testeo para el parametro de regularizacion\n",
        "lambda_t = 3"
      ],
      "execution_count": 11,
      "outputs": []
    },
    {
      "cell_type": "code",
      "metadata": {
        "colab": {
          "base_uri": "https://localhost:8080/"
        },
        "id": "LuHHtQ-CaTgv",
        "outputId": "7593b5da-600d-44be-a99e-7c41a53d08bc"
      },
      "source": [
        "J, grad = lrCostFunction(theta_t, X_t, y_t, lambda_t)\n",
        "\n",
        "print('Costo         : {:.6f}'.format(J))\n",
        "print('Costo esperadot: 2.534819')\n",
        "print('-----------------------')\n",
        "print('Gradientes:')\n",
        "print(' [{:.6f}, {:.6f}, {:.6f}, {:.6f}]'.format(*grad))\n",
        "print('Gradientes esperados:')\n",
        "print(' [0.146561, -0.548558, 0.724722, 1.398003]');"
      ],
      "execution_count": 12,
      "outputs": [
        {
          "output_type": "stream",
          "text": [
            "Costo         : 2.534819\n",
            "Costo esperadot: 2.534819\n",
            "-----------------------\n",
            "Gradientes:\n",
            " [0.146561, -0.548558, 0.724722, 1.398003]\n",
            "Gradientes esperados:\n",
            " [0.146561, -0.548558, 0.724722, 1.398003]\n"
          ],
          "name": "stdout"
        }
      ]
    },
    {
      "cell_type": "code",
      "metadata": {
        "id": "5sxAJ5bai_Cx"
      },
      "source": [
        "def oneVsAll(X, y, num_labels, lambda_):\n",
        "  \n",
        "    # algunas variables utiles\n",
        "    m, n = X.shape\n",
        "    \n",
        "    all_theta = np.zeros((num_labels, n + 1))\n",
        "\n",
        "    # Agrega unos a la matriz X\n",
        "    X = np.concatenate([np.ones((m, 1)), X], axis=1)\n",
        "    #for c in np.arange(num_labels): solo cuando y esta al incio\n",
        "  # c+1 se hace para sabr los n resltados\n",
        "\n",
        "    for c in np.arange(num_labels):\n",
        "        initial_theta = np.zeros(n + 1)\n",
        "        options = {'maxiter': 50}\n",
        "        res = optimize.minimize(lrCostFunction, \n",
        "                                initial_theta, \n",
        "                                (X, (y == (c+1)), lambda_), \n",
        "                                jac=True, \n",
        "                                method='BFGS',\n",
        "                                options=options) \n",
        "        \n",
        "        all_theta[c] = res.x\n",
        "\n",
        "    return all_theta"
      ],
      "execution_count": 13,
      "outputs": []
    },
    {
      "cell_type": "code",
      "metadata": {
        "colab": {
          "base_uri": "https://localhost:8080/"
        },
        "id": "-H2ErOnxj4oY",
        "outputId": "504f4ad9-2db0-4408-9db1-8ce822de7edf"
      },
      "source": [
        "lambda_ = 0.1\n",
        "all_theta = oneVsAll(X, y, num_labels, lambda_)\n",
        "print(all_theta)"
      ],
      "execution_count": 14,
      "outputs": [
        {
          "output_type": "stream",
          "text": [
            "[[ 6.11673795e+00  6.05559707e-02  9.18559741e-01 -2.86954053e-03\n",
            "   2.26507700e-01  3.43974381e-02  1.49282126e-01 -3.14885672e+00\n",
            "  -7.10503032e-02  6.81860178e-01 -3.24336092e-02 -3.45926660e-02\n",
            "  -2.92758972e-03 -1.76675313e-02 -2.05951210e-02 -8.61925344e-02\n",
            "  -2.45106493e-02  1.18649211e-01 -3.64829867e-02 -1.14090938e-01\n",
            "  -2.92973784e-02 -1.65624411e-01]\n",
            " [-4.17746808e+00 -9.16007363e-02 -7.73832799e-01 -5.78833868e-03\n",
            "  -1.03778778e-01  7.74385009e-02 -4.24448434e-02  5.63133347e-01\n",
            "   1.72401755e-02 -2.28598690e+00  5.86752147e-03  4.85102987e-02\n",
            "  -6.07310454e-04  1.05451552e-03  4.47205069e-04  2.28119524e-01\n",
            "   1.06575118e-01  3.22814310e-03  1.06319239e-01  2.34670717e-03\n",
            "   1.95506792e-02 -4.45777883e-01]\n",
            " [-3.00629118e-01  2.01210569e-01 -6.77252373e-01  1.38248424e-02\n",
            "  -2.31637481e-01 -4.96991255e-02  7.20203045e-02  1.42979588e+00\n",
            "   1.01637132e-01 -1.03936351e+00  5.78436605e-02  7.99814912e-02\n",
            "   1.43749097e-02  2.22664301e-02  3.66413398e-02 -5.60373214e-01\n",
            "   5.97213519e-01 -2.05955434e-02 -1.71138312e-01 -1.42026907e-01\n",
            "   4.52044631e-02  6.35757703e-01]]\n"
          ],
          "name": "stdout"
        },
        {
          "output_type": "stream",
          "text": [
            "/usr/local/lib/python3.7/dist-packages/ipykernel_launcher.py:18: RuntimeWarning: divide by zero encountered in log\n"
          ],
          "name": "stderr"
        }
      ]
    },
    {
      "cell_type": "code",
      "metadata": {
        "id": "syI-H4Kjl7IQ"
      },
      "source": [
        "def predictOneVsAll(all_theta, X):\n",
        "\n",
        "    m = X.shape[0];\n",
        "    num_labels = all_theta.shape[0]\n",
        "\n",
        "    p = np.zeros(m)\n",
        "\n",
        "    # Add ones to the X data matrix\n",
        "    X = np.concatenate([np.ones((m, 1)), X], axis=1)\n",
        "    p = np.argmax(sigmoid(X.dot(all_theta.T)), axis = 1)\n",
        "\n",
        "    return p + 1"
      ],
      "execution_count": 15,
      "outputs": []
    },
    {
      "cell_type": "code",
      "metadata": {
        "colab": {
          "base_uri": "https://localhost:8080/"
        },
        "id": "YOCigQKNmEBY",
        "outputId": "bd429e02-0d47-49a2-e1d2-4d9ad37cf872"
      },
      "source": [
        "print(\"ONE VS ALL DE ESTADO DE SALUD FETAL QUE VARIA ENTRE 1 Y 3\\n1 = Muy Saludable \\n2 = Normal \\n3 = Sospechoso (Revision)\\n\")\n",
        "print(X.shape)\n",
        "pred = predictOneVsAll(all_theta, X)\n",
        "print('Precision del conjuto de entrenamiento: {:.2f}%'.format(np.mean(pred == y) * 100))\n",
        "XPrueba = X[2121:2127, :].copy()\n",
        "print(XPrueba.shape)\n",
        "#print(np.ones((1)))\n",
        "#print(XPrueba)\n",
        "#p = np.zeros(1)\n",
        "#yPrueba = [2]\n",
        "#XPrueba = [[123, 0, 0, 0, 0, 0, 0, 70, 0.5, 33, 8.3, 71, 89, 160, 5, 0, 123, 124, 126, 1, 0]]\n",
        "print(XPrueba)\n",
        "\n",
        "XPrueba = np.concatenate((np.ones((6, 1)), XPrueba), axis=1)\n",
        "print(XPrueba.shape)\n",
        "print(XPrueba)\n",
        "p = np.argmax(sigmoid(XPrueba.dot(all_theta.T)), axis = 1)\n",
        "print(p + 1)\n",
        "\n",
        "#displayData(X[500:510, :])"
      ],
      "execution_count": 19,
      "outputs": [
        {
          "output_type": "stream",
          "text": [
            "ONE VS ALL DE ESTADO DE SALUD FETAL QUE VARIA ENTRE 1 Y 3\n",
            "1 = Muy Saludable \n",
            "2 = Normal \n",
            "3 = Sospechoso (Revision)\n",
            "\n",
            "(2127, 21)\n",
            "Precision del conjuto de entrenamiento: 89.56%\n",
            "(6, 21)\n",
            "[[140.    0.    0.    5.    1.    0.    0.   77.    0.7  17.    6.   31.\n",
            "  124.  155.    2.    0.  145.  143.  145.    2.    0. ]\n",
            " [140.    0.    0.    7.    0.    0.    0.   79.    0.2  25.    7.2  40.\n",
            "  137.  177.    4.    0.  153.  150.  152.    2.    0. ]\n",
            " [140.    1.    0.    7.    0.    0.    0.   78.    0.4  22.    7.1  66.\n",
            "  103.  169.    6.    0.  152.  148.  151.    3.    1. ]\n",
            " [140.    1.    0.    7.    0.    0.    0.   79.    0.4  20.    6.1  67.\n",
            "  103.  170.    5.    0.  153.  148.  152.    4.    1. ]\n",
            " [140.    1.    0.    6.    0.    0.    0.   78.    0.4  27.    7.   66.\n",
            "  103.  169.    6.    0.  152.  147.  151.    4.    1. ]\n",
            " [142.    2.    2.    8.    0.    0.    0.   74.    0.4  36.    5.   42.\n",
            "  117.  159.    2.    1.  145.  143.  145.    1.    0. ]]\n",
            "(6, 22)\n",
            "[[  1.  140.    0.    0.    5.    1.    0.    0.   77.    0.7  17.    6.\n",
            "   31.  124.  155.    2.    0.  145.  143.  145.    2.    0. ]\n",
            " [  1.  140.    0.    0.    7.    0.    0.    0.   79.    0.2  25.    7.2\n",
            "   40.  137.  177.    4.    0.  153.  150.  152.    2.    0. ]\n",
            " [  1.  140.    1.    0.    7.    0.    0.    0.   78.    0.4  22.    7.1\n",
            "   66.  103.  169.    6.    0.  152.  148.  151.    3.    1. ]\n",
            " [  1.  140.    1.    0.    7.    0.    0.    0.   79.    0.4  20.    6.1\n",
            "   67.  103.  170.    5.    0.  153.  148.  152.    4.    1. ]\n",
            " [  1.  140.    1.    0.    6.    0.    0.    0.   78.    0.4  27.    7.\n",
            "   66.  103.  169.    6.    0.  152.  147.  151.    4.    1. ]\n",
            " [  1.  142.    2.    2.    8.    0.    0.    0.   74.    0.4  36.    5.\n",
            "   42.  117.  159.    2.    1.  145.  143.  145.    1.    0. ]]\n",
            "[1 2 2 1 2 1]\n"
          ],
          "name": "stdout"
        }
      ]
    }
  ]
}